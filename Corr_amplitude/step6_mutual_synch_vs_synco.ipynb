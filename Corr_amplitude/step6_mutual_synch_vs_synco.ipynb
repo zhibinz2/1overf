{
 "cells": [
  {
   "cell_type": "code",
   "execution_count": null,
   "metadata": {},
   "outputs": [],
   "source": [
    "np.shape(state4_syn)\n",
    "\n",
    "np.shape(bPcorr_syn2_state4_e496)\n",
    "\n",
    "syn2vs_st4_496m=np.zeros((4,7,496))\n",
    "\n",
    "TP_syn2vs_st4_496m=np.zeros((4,7,496))\n",
    "\n",
    "# mean of 32x32 adjcency matricies\n",
    "syn2_st4_mat=np.zeros((2,4,7,32,32))\n",
    "\n",
    "# Between 2 syn types: calculate the difference\n",
    "syn2vs_st4diff_mat=np.zeros((4,7,32,32))\n",
    "syn2vs_st3diff_496=np.zeros((4,7,496))\n",
    "\n",
    "np.shape(syn2_st4_freq7_tr36_ccc3_ctr32)\n",
    "\n",
    "# Between 2syn types: t-test on centrality measures\n",
    "p_syn2vs_st4_freq7_tr36_ccc3_ctr32=np.zeros((4, 7, 3, 32))"
   ]
  }
 ],
 "metadata": {
  "language_info": {
   "name": "python"
  },
  "orig_nbformat": 4
 },
 "nbformat": 4,
 "nbformat_minor": 2
}
