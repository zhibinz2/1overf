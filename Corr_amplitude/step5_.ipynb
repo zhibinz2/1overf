{
 "cells": [
  {
   "cell_type": "code",
   "execution_count": 1,
   "metadata": {},
   "outputs": [],
   "source": [
    "import sys\n",
    "# sys.path.append('../../')\n",
    "\n",
    "from os import listdir\n",
    "\n",
    "from hdf5storage import loadmat, savemat \n",
    "import numpy as np \n",
    "from matplotlib import pyplot as plt\n",
    "\n",
    "from scipy import signal \n",
    "# from hnlpy.timeop import makefiltersos\n",
    "# from hnlpy.timeop import narrowfilter \n",
    "from scipy.signal import sosfiltfilt\n",
    "from scipy.signal import hilbert\n",
    "from scipy.signal import savgol_filter\n",
    "from scipy.stats import sem\n",
    "from scipy import stats\n",
    "from scipy.stats import f_oneway\n",
    "from numpy.polynomial.polynomial import polyfit, polyval\n",
    "\n",
    "import networkx as nx\n"
   ]
  },
  {
   "cell_type": "code",
   "execution_count": 2,
   "metadata": {},
   "outputs": [],
   "source": [
    "# (Color Scheme) \n",
    "red         = [1, 0, 0]\n",
    "pink        = [1, 0.65, 0.75]\n",
    "black       = [0, 0, 0]\n",
    "white       = [1, 1, 1]\n",
    "blue        = [0, 0, 1]\n",
    "mediumblue  = [0, 0.4, 0.7]\n",
    "green       = [0, 1, 0]\n",
    "darkgreen   = [0, 0.5, 0]\n",
    "grey        = [0.5, 0.5, 0.5]\n",
    "yellow      = [1, 1, 0]\n",
    "deepyellow  = [1, 0.8, 0.2]\n",
    "gold        = [212/255, 175/255, 55/255]\n",
    "brown       = [150/255, 75/255, 0]\n",
    "magenta     = [1, 0, 1] \n",
    "cyan        = [0, 1, 1]  \n",
    "purple      = [0.6, 0.1, 0.9]\n",
    "\n",
    "# % https://www.mathworks.com/help/matlab/creating_plots/specify-plot-colors.html\n",
    "matlab_blue     = [0, 0.4470, 0.7410]\n",
    "matlab_orange   = [0.8500, 0.3250, 0.0980]\n",
    "matlab_gold     = [0.9290, 0.6940, 0.1250]\n",
    "matlab_purple   = [0.4940, 0.1840, 0.5560]\n",
    "matlab_green    = [0.4660, 0.6740, 0.1880]\n",
    "matlab_cyan     = [0.3010, 0.7450, 0.9330]\n",
    "matlab_red      = [0.6350, 0.0780, 0.1840]\n",
    "\n",
    "# combine colors\n",
    "condicolors = [darkgreen, red, blue, magenta, purple, purple]\n",
    "dire3colors = [darkgreen, brown, magenta]\n",
    "syn2colors = [darkgreen, pink]\n",
    "HNLcolors = [darkgreen, deepyellow, pink]\n",
    "\n",
    "color_4st=['green','red','blue','black']"
   ]
  },
  {
   "cell_type": "code",
   "execution_count": 10,
   "metadata": {},
   "outputs": [],
   "source": [
    "# load chan locs for topoplots\n",
    "dict_loc=loadmat('../Archived/Pcorr_4states_2sestype/chan_locs/xyzlabels.mat')\n",
    "\n",
    "x=dict_loc['x']\n",
    "y=dict_loc['y']\n",
    "z=dict_loc['z']\n",
    "labels=dict_loc['labels']\n",
    "\n",
    "# adjust coords for nilearn plots\n",
    "coords=np.zeros((32,3))\n",
    "for i in range(32):\n",
    "    coords[i,:]=[x[i]*700, y[i]*900-15, z[i]*950-15]\n",
    "\n",
    "#  construct text for networkx labels\n",
    "labeldict = {}\n",
    "for i in range(32):\n",
    "    labeldict[i]=labels[i]\n",
    "\n",
    "# load pos for networkx plots\n",
    "pos_mat=loadmat('../Archived/Pcorr_4states_2sestype/chan_locs/pos.mat')\n",
    "pos=pos_mat['pos']\n",
    "\n",
    "\n",
    "# construct full edges_list\n",
    "edges_list=list() # each edge is a two element tuple\n",
    "for i in range(32):\n",
    "    for j in range(32):\n",
    "        if i<j: # use indicies to remove half of edges and colors and the diagonal\n",
    "            edges_list.append((i,j))"
   ]
  },
  {
   "cell_type": "code",
   "execution_count": 3,
   "metadata": {},
   "outputs": [],
   "source": [
    "# variable names for plotting\n",
    "states4names=['Uncoupled','Leading','Following','Mutual']\n",
    "syn2names=['Synch','Synco']\n",
    "states3names=['Independent','Unidirectional','Bidirectional']\n",
    "band_labels = ['Delta','Theta','Alpha','Mu','Beta1','Beta2','Gamma']"
   ]
  },
  {
   "cell_type": "code",
   "execution_count": 4,
   "metadata": {},
   "outputs": [],
   "source": [
    "outdict=loadmat('Indicies.mat')\n",
    "\n",
    "# condi4_ind          = outdict['condi4_ind']\n",
    "# syn_ind             = outdict['syn_ind']\n",
    "syn2_condi4_ind     = outdict['syn2_condi4_ind']"
   ]
  },
  {
   "cell_type": "code",
   "execution_count": 5,
   "metadata": {},
   "outputs": [],
   "source": [
    "outdict=loadmat('Corr_eeg144.mat')\n",
    "\n",
    "eeg_empirical_correlation144x2  = outdict['eeg_empirical_correlation144x2']     \n",
    "eeg_partial_correlation144x2    = outdict['eeg_partial_correlation144x2']       \n",
    "intervals144                    = outdict['intervals144']                       \n",
    "samples144                      = outdict['samples144']                         \n",
    "session144                      = outdict['session144']                         "
   ]
  },
  {
   "cell_type": "code",
   "execution_count": null,
   "metadata": {},
   "outputs": [],
   "source": [
    "# 3 states pcorr\n",
    "eeg_pcorr_dgctr_mean2x4x7x32=np.zeros((2,3,7,32))"
   ]
  },
  {
   "cell_type": "code",
   "execution_count": null,
   "metadata": {},
   "outputs": [],
   "source": [
    "# organze eeg_pcorr_dgctr into 2x4x7x32 # ((144,2,7,32)) # degree centrality (does not account for weight)\n",
    "\n",
    "# mean and sem of degree centralities in 32 channels  \n",
    "eeg_pcorr_dgctr # 144x2x7x32\n",
    "eeg_pcorr_dgctr_mean2x4x7x32=np.zeros((2,4,7,32)) # 2 syn types x 4 condi x 7 freq x 32 chan\n",
    "eeg_pcorr_dgctr_sem2x4x7x32=np.zeros((2,4,7,32)) # 2 syn types x 4 condi x 7 freq x 32 chan\n",
    "\n",
    "for syn in range(2):\n",
    "    for freq in range(7):\n",
    "        # Uncoupled\n",
    "        mat1=eeg_pcorr_dgctr[syn2_condi4_ind[syn][0],0,freq,:]\n",
    "        mat2=eeg_pcorr_dgctr[syn2_condi4_ind[syn][0],1,freq,:]\n",
    "        eeg_pcorr_dgctr_mean2x4x7x32[syn,0,freq,:],eeg_pcorr_dgctr_sem2x4x7x32[syn,0,freq,:]=cal_mean_sem_all_chan(mat1,mat2)\n",
    "\n",
    "\n",
    "        # Leading for L&R\n",
    "        mat1=eeg_pcorr_dgctr[syn2_condi4_ind[syn][1],0,freq,:]\n",
    "        mat2=eeg_pcorr_dgctr[syn2_condi4_ind[syn][2],1,freq,:]\n",
    "        eeg_pcorr_dgctr_mean2x4x7x32[syn,1,freq,:],eeg_pcorr_dgctr_sem2x4x7x32[syn,1,freq,:]=cal_mean_sem_all_chan(mat1,mat2)\n",
    "\n",
    "        # Following for L&R\n",
    "        mat1=eeg_pcorr_dgctr[syn2_condi4_ind[syn][1],1,freq,:]\n",
    "        mat2=eeg_pcorr_dgctr[syn2_condi4_ind[syn][2],0,freq,:]\n",
    "        eeg_pcorr_dgctr_mean2x4x7x32[syn,2,freq,:],eeg_pcorr_dgctr_sem2x4x7x32[syn,2,freq,:]=cal_mean_sem_all_chan(mat1,mat2)\n",
    "\n",
    "        # Mutual\n",
    "        mat1=eeg_pcorr_dgctr[syn2_condi4_ind[syn][3],0,freq,:]\n",
    "        mat2=eeg_pcorr_dgctr[syn2_condi4_ind[syn][3],1,freq,:]\n",
    "        eeg_pcorr_dgctr_mean2x4x7x32[syn,3,freq,:],eeg_pcorr_dgctr_sem2x4x7x32[syn,3,freq,:]=cal_mean_sem_all_chan(mat1,mat2)\n"
   ]
  }
 ],
 "metadata": {
  "kernelspec": {
   "display_name": "base",
   "language": "python",
   "name": "python3"
  },
  "language_info": {
   "codemirror_mode": {
    "name": "ipython",
    "version": 3
   },
   "file_extension": ".py",
   "mimetype": "text/x-python",
   "name": "python",
   "nbconvert_exporter": "python",
   "pygments_lexer": "ipython3",
   "version": "3.9.13"
  },
  "orig_nbformat": 4
 },
 "nbformat": 4,
 "nbformat_minor": 2
}
