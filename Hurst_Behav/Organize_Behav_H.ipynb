{
 "cells": [
  {
   "cell_type": "code",
   "execution_count": 1,
   "metadata": {},
   "outputs": [],
   "source": [
    "import sys\n",
    "# sys.path.append('../../')\n",
    "\n",
    "from os import listdir\n",
    "\n",
    "from hdf5storage import loadmat, savemat \n",
    "import numpy as np \n",
    "from matplotlib import pyplot as plt\n",
    "\n",
    "from scipy import signal \n",
    "# from hnlpy.timeop import makefiltersos\n",
    "# from hnlpy.timeop import narrowfilter \n",
    "from scipy.signal import sosfiltfilt\n",
    "from scipy.signal import hilbert\n",
    "from scipy.signal import savgol_filter\n",
    "from scipy.stats import sem\n",
    "from scipy import stats\n",
    "from scipy.stats import f_oneway\n",
    "from numpy.polynomial.polynomial import polyfit, polyval\n",
    "\n",
    "import networkx as nx\n"
   ]
  },
  {
   "cell_type": "code",
   "execution_count": 9,
   "metadata": {},
   "outputs": [],
   "source": [
    "H_LRall=loadmat('H_LRall.mat') # from matlab\n"
   ]
  },
  {
   "cell_type": "code",
   "execution_count": 10,
   "metadata": {},
   "outputs": [],
   "source": [
    "H_Lall=H_LRall['H_Lall']\n",
    "H_Rall=H_LRall['H_Rall']"
   ]
  },
  {
   "cell_type": "code",
   "execution_count": 12,
   "metadata": {},
   "outputs": [],
   "source": [
    "H_Lall_T= H_Lall.T\n"
   ]
  },
  {
   "cell_type": "code",
   "execution_count": 13,
   "metadata": {},
   "outputs": [],
   "source": [
    "H_Rall_T= H_Rall.T"
   ]
  },
  {
   "cell_type": "code",
   "execution_count": 17,
   "metadata": {},
   "outputs": [],
   "source": [
    "del H"
   ]
  },
  {
   "cell_type": "code",
   "execution_count": 18,
   "metadata": {},
   "outputs": [],
   "source": [
    "H = np.concatenate((H_Lall,H_Rall),axis=1)"
   ]
  },
  {
   "cell_type": "code",
   "execution_count": 22,
   "metadata": {},
   "outputs": [],
   "source": [
    "outdict = dict()\n",
    "outdict['H']       = H\n",
    "savemat('H',outdict,store_python_metadata = True) "
   ]
  }
 ],
 "metadata": {
  "kernelspec": {
   "display_name": "base",
   "language": "python",
   "name": "python3"
  },
  "language_info": {
   "codemirror_mode": {
    "name": "ipython",
    "version": 3
   },
   "file_extension": ".py",
   "mimetype": "text/x-python",
   "name": "python",
   "nbconvert_exporter": "python",
   "pygments_lexer": "ipython3",
   "version": "3.9.13"
  },
  "orig_nbformat": 4
 },
 "nbformat": 4,
 "nbformat_minor": 2
}
