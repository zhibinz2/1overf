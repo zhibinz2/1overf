{
  "cells": [
    {
      "cell_type": "code",
      "execution_count": null,
      "metadata": {
        "collapsed": false
      },
      "outputs": [],
      "source": [
        "%matplotlib inline"
      ]
    },
    {
      "cell_type": "markdown",
      "metadata": {},
      "source": [
        "\n",
        "# Compare cross decomposition methods\n",
        "\n",
        "Simple usage of various cross decomposition algorithms:\n",
        "\n",
        "- PLSCanonical\n",
        "- PLSRegression, with multivariate response, a.k.a. PLS2\n",
        "- PLSRegression, with univariate response, a.k.a. PLS1\n",
        "- CCA\n",
        "\n",
        "Given 2 multivariate covarying two-dimensional datasets, X, and Y,\n",
        "PLS extracts the 'directions of covariance', i.e. the components of each\n",
        "datasets that explain the most shared variance between both datasets.\n",
        "This is apparent on the **scatterplot matrix** display: components 1 in\n",
        "dataset X and dataset Y are maximally correlated (points lie around the\n",
        "first diagonal). This is also true for components 2 in both dataset,\n",
        "however, the correlation across datasets for different components is\n",
        "weak: the point cloud is very spherical.\n"
      ]
    },
    {
      "cell_type": "markdown",
      "metadata": {},
      "source": [
        "## Dataset based latent variables model\n",
        "\n"
      ]
    },
    {
      "cell_type": "code",
      "execution_count": 1,
      "metadata": {
        "collapsed": false
      },
      "outputs": [
        {
          "name": "stdout",
          "output_type": "stream",
          "text": [
            "Corr(X)\n",
            "[[1.   0.53 0.07 0.05]\n",
            " [0.53 1.   0.02 0.03]\n",
            " [0.07 0.02 1.   0.52]\n",
            " [0.05 0.03 0.52 1.  ]]\n",
            "Corr(Y)\n",
            "[[1.   0.51 0.01 0.02]\n",
            " [0.51 1.   0.01 0.07]\n",
            " [0.01 0.01 1.   0.48]\n",
            " [0.02 0.07 0.48 1.  ]]\n"
          ]
        }
      ],
      "source": [
        "import numpy as np\n",
        "\n",
        "n = 500\n",
        "# 2 latents vars:\n",
        "l1 = np.random.normal(size=n)\n",
        "l2 = np.random.normal(size=n)\n",
        "\n",
        "latents = np.array([l1, l1, l2, l2]).T\n",
        "X = latents + np.random.normal(size=4 * n).reshape((n, 4))\n",
        "Y = latents + np.random.normal(size=4 * n).reshape((n, 4))\n",
        "\n",
        "X_train = X[: n // 2]\n",
        "Y_train = Y[: n // 2]\n",
        "X_test = X[n // 2 :]\n",
        "Y_test = Y[n // 2 :]\n",
        "\n",
        "print(\"Corr(X)\")\n",
        "print(np.round(np.corrcoef(X.T), 2))\n",
        "print(\"Corr(Y)\")\n",
        "print(np.round(np.corrcoef(Y.T), 2))"
      ]
    },
    {
      "cell_type": "markdown",
      "metadata": {},
      "source": [
        "## Canonical (symmetric) PLS\n",
        "\n",
        "### Transform data\n",
        "\n"
      ]
    },
    {
      "cell_type": "code",
      "execution_count": null,
      "metadata": {
        "collapsed": false
      },
      "outputs": [],
      "source": [
        "from sklearn.cross_decomposition import PLSCanonical\n",
        "\n",
        "plsca = PLSCanonical(n_components=2)\n",
        "plsca.fit(X_train, Y_train)\n",
        "X_train_r, Y_train_r = plsca.transform(X_train, Y_train)\n",
        "X_test_r, Y_test_r = plsca.transform(X_test, Y_test)"
      ]
    },
    {
      "cell_type": "markdown",
      "metadata": {},
      "source": [
        "### Scatter plot of scores\n",
        "\n"
      ]
    },
    {
      "cell_type": "code",
      "execution_count": null,
      "metadata": {
        "collapsed": false
      },
      "outputs": [],
      "source": [
        "import matplotlib.pyplot as plt\n",
        "\n",
        "# On diagonal plot X vs Y scores on each components\n",
        "plt.figure(figsize=(12, 8))\n",
        "plt.subplot(221)\n",
        "plt.scatter(X_train_r[:, 0], Y_train_r[:, 0], label=\"train\", marker=\"o\", s=25)\n",
        "plt.scatter(X_test_r[:, 0], Y_test_r[:, 0], label=\"test\", marker=\"o\", s=25)\n",
        "plt.xlabel(\"x scores\")\n",
        "plt.ylabel(\"y scores\")\n",
        "plt.title(\n",
        "    \"Comp. 1: X vs Y (test corr = %.2f)\"\n",
        "    % np.corrcoef(X_test_r[:, 0], Y_test_r[:, 0])[0, 1]\n",
        ")\n",
        "plt.xticks(())\n",
        "plt.yticks(())\n",
        "plt.legend(loc=\"best\")\n",
        "\n",
        "plt.subplot(224)\n",
        "plt.scatter(X_train_r[:, 1], Y_train_r[:, 1], label=\"train\", marker=\"o\", s=25)\n",
        "plt.scatter(X_test_r[:, 1], Y_test_r[:, 1], label=\"test\", marker=\"o\", s=25)\n",
        "plt.xlabel(\"x scores\")\n",
        "plt.ylabel(\"y scores\")\n",
        "plt.title(\n",
        "    \"Comp. 2: X vs Y (test corr = %.2f)\"\n",
        "    % np.corrcoef(X_test_r[:, 1], Y_test_r[:, 1])[0, 1]\n",
        ")\n",
        "plt.xticks(())\n",
        "plt.yticks(())\n",
        "plt.legend(loc=\"best\")\n",
        "\n",
        "# Off diagonal plot components 1 vs 2 for X and Y\n",
        "plt.subplot(222)\n",
        "plt.scatter(X_train_r[:, 0], X_train_r[:, 1], label=\"train\", marker=\"*\", s=50)\n",
        "plt.scatter(X_test_r[:, 0], X_test_r[:, 1], label=\"test\", marker=\"*\", s=50)\n",
        "plt.xlabel(\"X comp. 1\")\n",
        "plt.ylabel(\"X comp. 2\")\n",
        "plt.title(\n",
        "    \"X comp. 1 vs X comp. 2 (test corr = %.2f)\"\n",
        "    % np.corrcoef(X_test_r[:, 0], X_test_r[:, 1])[0, 1]\n",
        ")\n",
        "plt.legend(loc=\"best\")\n",
        "plt.xticks(())\n",
        "plt.yticks(())\n",
        "\n",
        "plt.subplot(223)\n",
        "plt.scatter(Y_train_r[:, 0], Y_train_r[:, 1], label=\"train\", marker=\"*\", s=50)\n",
        "plt.scatter(Y_test_r[:, 0], Y_test_r[:, 1], label=\"test\", marker=\"*\", s=50)\n",
        "plt.xlabel(\"Y comp. 1\")\n",
        "plt.ylabel(\"Y comp. 2\")\n",
        "plt.title(\n",
        "    \"Y comp. 1 vs Y comp. 2 , (test corr = %.2f)\"\n",
        "    % np.corrcoef(Y_test_r[:, 0], Y_test_r[:, 1])[0, 1]\n",
        ")\n",
        "plt.legend(loc=\"best\")\n",
        "plt.xticks(())\n",
        "plt.yticks(())\n",
        "plt.show()"
      ]
    },
    {
      "cell_type": "markdown",
      "metadata": {},
      "source": [
        "## PLS regression, with multivariate response, a.k.a. PLS2\n",
        "\n"
      ]
    },
    {
      "cell_type": "code",
      "execution_count": null,
      "metadata": {
        "collapsed": false
      },
      "outputs": [],
      "source": [
        "from sklearn.cross_decomposition import PLSRegression\n",
        "\n",
        "n = 1000\n",
        "q = 3\n",
        "p = 10\n",
        "X = np.random.normal(size=n * p).reshape((n, p))\n",
        "B = np.array([[1, 2] + [0] * (p - 2)] * q).T\n",
        "# each Yj = 1*X1 + 2*X2 + noize\n",
        "Y = np.dot(X, B) + np.random.normal(size=n * q).reshape((n, q)) + 5\n",
        "\n",
        "pls2 = PLSRegression(n_components=3)\n",
        "pls2.fit(X, Y)\n",
        "print(\"True B (such that: Y = XB + Err)\")\n",
        "print(B)\n",
        "# compare pls2.coef_ with B\n",
        "print(\"Estimated B\")\n",
        "print(np.round(pls2.coef_, 1))\n",
        "pls2.predict(X)"
      ]
    },
    {
      "cell_type": "markdown",
      "metadata": {},
      "source": [
        "## PLS regression, with univariate response, a.k.a. PLS1\n",
        "\n"
      ]
    },
    {
      "cell_type": "code",
      "execution_count": null,
      "metadata": {
        "collapsed": false
      },
      "outputs": [],
      "source": [
        "n = 1000\n",
        "p = 10\n",
        "X = np.random.normal(size=n * p).reshape((n, p))\n",
        "y = X[:, 0] + 2 * X[:, 1] + np.random.normal(size=n * 1) + 5\n",
        "pls1 = PLSRegression(n_components=3)\n",
        "pls1.fit(X, y)\n",
        "# note that the number of components exceeds 1 (the dimension of y)\n",
        "print(\"Estimated betas\")\n",
        "print(np.round(pls1.coef_, 1))"
      ]
    },
    {
      "cell_type": "markdown",
      "metadata": {},
      "source": [
        "## CCA (PLS mode B with symmetric deflation)\n",
        "\n"
      ]
    },
    {
      "cell_type": "code",
      "execution_count": null,
      "metadata": {
        "collapsed": false
      },
      "outputs": [],
      "source": [
        "from sklearn.cross_decomposition import CCA\n",
        "\n",
        "cca = CCA(n_components=2)\n",
        "cca.fit(X_train, Y_train)\n",
        "X_train_r, Y_train_r = cca.transform(X_train, Y_train)\n",
        "X_test_r, Y_test_r = cca.transform(X_test, Y_test)"
      ]
    }
  ],
  "metadata": {
    "kernelspec": {
      "display_name": "Python 3",
      "language": "python",
      "name": "python3"
    },
    "language_info": {
      "codemirror_mode": {
        "name": "ipython",
        "version": 3
      },
      "file_extension": ".py",
      "mimetype": "text/x-python",
      "name": "python",
      "nbconvert_exporter": "python",
      "pygments_lexer": "ipython3",
      "version": "3.10.8"
    }
  },
  "nbformat": 4,
  "nbformat_minor": 0
}
