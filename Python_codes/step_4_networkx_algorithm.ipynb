{
 "cells": [
  {
   "cell_type": "code",
   "execution_count": 6,
   "metadata": {},
   "outputs": [],
   "source": [
    "import matplotlib.pyplot as plt\n",
    "\n",
    "from hdf5storage import loadmat, savemat \n",
    "\n",
    "import numpy as np\n",
    "\n",
    "from scipy.stats import sem\n",
    "\n",
    "import networkx as nx\n",
    "\n"
   ]
  },
  {
   "cell_type": "code",
   "execution_count": 7,
   "metadata": {},
   "outputs": [],
   "source": [
    "# load chan locs\n",
    "dict_loc=loadmat('chan_locs/xyzlabels.mat')\n",
    "x=dict_loc['x']\n",
    "y=dict_loc['y']\n",
    "z=dict_loc['z']\n",
    "labels=dict_loc['labels']\n",
    "\n",
    "#  construct text for networkx labels\n",
    "labeldict = {}\n",
    "for i in range(32):\n",
    "    labeldict[i]=labels[i]\n",
    "\n",
    "# construct 2d pos for networkx\n",
    "pos=list()\n",
    "for i in range(32):\n",
    "    pos.append(np.array((x[i], y[i]))) "
   ]
  },
  {
   "cell_type": "code",
   "execution_count": 8,
   "metadata": {},
   "outputs": [],
   "source": [
    "# construct full edges_list\n",
    "edges_list=list() # each edge is a two element tuple\n",
    "for i in range(32):\n",
    "    for j in range(32):\n",
    "        if i<j: # use indicies to remove half of edges and colors and the diagonal\n",
    "            edges_list.append((i,j))"
   ]
  },
  {
   "cell_type": "code",
   "execution_count": 9,
   "metadata": {},
   "outputs": [],
   "source": [
    "# parameters for plotting\n",
    "states4names=['Uncoupled','Leading','Following','Mutual']"
   ]
  },
  {
   "cell_type": "code",
   "execution_count": 10,
   "metadata": {},
   "outputs": [],
   "source": [
    "# load data of the 4 states\n",
    "outdict=loadmat('append_4states.mat')\n",
    "append_4states=outdict[\"append_4states\"]"
   ]
  },
  {
   "cell_type": "code",
   "execution_count": 11,
   "metadata": {},
   "outputs": [],
   "source": [
    "# get mean and sem from 72 trials in each state\n",
    "def get_mean_sem(st,freq,append_4states,edges_list):\n",
    "    # not_connected_num=0\n",
    "    num_edges=list(); transitivity_clus=list(); avg_clus=list(); \n",
    "    sw_sigma=list(); sw_omega=list()\n",
    "    for trl in range(72):\n",
    "        bool_mat=append_4states[st][trl][freq,:,:]\n",
    "        # remove non-exist edges\n",
    "        non0_edges=list()\n",
    "        for i in range(len(edges_list)): # 496\n",
    "            if bool_mat[edges_list[i][0],edges_list[i][1]] != 0:\n",
    "                non0_edges.append(edges_list[i])\n",
    "        # networkx initiate with edges\n",
    "        X = nx.Graph()\n",
    "        X.add_edges_from(non0_edges)\n",
    "\n",
    "        # compute number of remaining edges\n",
    "        num_edges.append(len(non0_edges))\n",
    "        # compute transitivity\n",
    "        transitivity_clus.append(nx.transitivity(X))\n",
    "        # compute average clustering coefficient\n",
    "        try:\n",
    "            avg_clus.append(nx.average_clustering(X)) # when on clustering coefficient is 0 there will be zero division error\n",
    "        except:\n",
    "            avg_clus.append(0)\n",
    "\n",
    "        # #compute small-world coefficients (including this will take 12 hours (2x72x4x30 min) to complete)\n",
    "        # try:\n",
    "        #     sw_sigma.append(nx.sigma(X, niter=15, nrand=10, seed=123)) # graph is not connected error\n",
    "        #     sw_omega.append(nx.omega(X, niter=10, nrand=10, seed=123)) \n",
    "        # except:\n",
    "        #     # sw_sigma.append(nan)\n",
    "        #     # sw_omega.append(nan)\n",
    "        #     not_connected_num=not_connected_num+1\n",
    "        #     print(not_connected_num)\n",
    "\n",
    "    num_edges_mean=np.mean(num_edges); num_edges_sem=sem(num_edges)\n",
    "    transitivity_clus_mean=np.mean(transitivity_clus); transitivity_clus_sem=sem(transitivity_clus)\n",
    "    avg_clus_mean=np.mean(avg_clus); avg_clus_sem=sem(avg_clus)\n",
    "    # sw_sigma_mean=np.mean(sw_sigma); sw_sigma_sem=sem(sw_sigma) \n",
    "    # sw_omega_mean=sem(sw_omega); sw_omega_sem=sem(sw_omega)\n",
    "    return num_edges_mean, num_edges_sem, transitivity_clus_mean, transitivity_clus_sem\\\n",
    "        , avg_clus_mean, avg_clus_sem#, sw_sigma_mean, sw_sigma_sem, sw_omega_mean, sw_omega_sem\n"
   ]
  },
  {
   "cell_type": "code",
   "execution_count": 12,
   "metadata": {},
   "outputs": [],
   "source": [
    "# compute mean and sem \n",
    "num_edges_mean_4st=np.zeros((4,30)); num_edges_sem_4st=np.zeros((4,30))\n",
    "transitivity_clus_mean_4st=np.zeros((4,30)); transitivity_clus_sem_4st=np.zeros((4,30))\n",
    "avg_clus_mean_4st=np.zeros((4,30)); avg_clus_sem_4st=np.zeros((4,30))\n",
    "# sw_sigma_mean_4st=np.zeros((4,30)); sw_sigma_sem_4st=np.zeros((4,30))\n",
    "# sw_omega_mean_4st=np.zeros((4,30)); sw_omega_sem_4st=np.zeros((4,30))\n",
    "for st in range(4):\n",
    "    for freq in range(30):\n",
    "        num_edges_mean, num_edges_sem, transitivity_clus_mean, transitivity_clus_sem\\\n",
    "        , avg_clus_mean, avg_clus_sem = get_mean_sem(st,freq,append_4states,edges_list)\n",
    "        # sw_sigma_mean, sw_sigma_sem, sw_omega_mean, sw_omega_sem\\\n",
    "        num_edges_mean_4st[st][freq]=num_edges_mean\n",
    "        num_edges_sem_4st[st][freq]=num_edges_sem\n",
    "        transitivity_clus_mean_4st[st][freq]=transitivity_clus_mean\n",
    "        transitivity_clus_sem_4st[st][freq]=transitivity_clus_sem\n",
    "        avg_clus_mean_4st[st][freq]=avg_clus_mean \n",
    "        avg_clus_sem_4st[st][freq]=avg_clus_sem\n",
    "        # sw_sigma_mean_4st[st][freq]=sw_sigma_mean\n",
    "        # sw_sigma_sem_4st[st][freq]=sw_sigma_sem\n",
    "        # sw_omega_mean_4st[st][freq]=sw_omega_mean\n",
    "        # sw_omega_sem_4st[st][freq]=sw_omega_sem\n",
    "        # print('complete one freq')\n"
   ]
  },
  {
   "attachments": {},
   "cell_type": "markdown",
   "metadata": {},
   "source": [
    "plotting"
   ]
  },
  {
   "cell_type": "code",
   "execution_count": null,
   "metadata": {},
   "outputs": [],
   "source": [
    "# plot number of edges with sem\n",
    "color_4st=['green','red','blue','black']\n",
    "for st in range(4):\n",
    "    plt.plot (np.arange(30)+1,num_edges_mean_4st[st],color=color_4st[st])\n",
    "    plt.fill_between(np.arange(30)+1,num_edges_mean_4st[st]-num_edges_sem_4st[st],\\\n",
    "                     num_edges_mean_4st[st]+num_edges_sem_4st[st],\\\n",
    "                        color=color_4st[st], alpha=.1)\n",
    "\n",
    "plt.xlabel(\"frequency (Hz)\")\n",
    "plt.ylabel(\"# edges\")\n",
    "\n",
    "\n",
    "plt.title('num of edges from boolean of the partial_correlation (trial level)')\n",
    "plt.grid()\n",
    "\n",
    "plt.legend(['Uncoupled mean', 'Uncoupled sem', 'Leading mean', 'Leading sem',\n",
    "    'Following mean', 'Following sem','Mutual mean','Mutual sem'],ncol=1,\n",
    "    loc='center left', bbox_to_anchor=(1, 0.5))\n"
   ]
  },
  {
   "cell_type": "code",
   "execution_count": null,
   "metadata": {},
   "outputs": [],
   "source": [
    "# plot transtivity\n",
    "color_4st=['green','red','blue','black']\n",
    "for st in range(4):\n",
    "    plt.plot (np.arange(30)+1,transitivity_clus_mean_4st[st],color=color_4st[st])\n",
    "    plt.fill_between(np.arange(30)+1,transitivity_clus_mean_4st[st]-transitivity_clus_sem_4st[st],\\\n",
    "                     transitivity_clus_mean_4st[st]+transitivity_clus_sem_4st[st],\\\n",
    "                        color=color_4st[st], alpha=.1)\n",
    "# plt.xlim(1,30)\n",
    "plt.xlabel(\"frequency (Hz)\")\n",
    "plt.ylabel(\"transitivity\")\n",
    "\n",
    "\n",
    "plt.title('network transitivity from boolean of the partial_correlation')\n",
    "plt.grid()\n",
    "\n",
    "plt.legend(['Uncoupled mean', 'Uncoupled sem', 'Leading mean', 'Leading sem',\n",
    "    'Following mean', 'Following sem','Mutual mean','Mutual sem'],ncol=1,\n",
    "    loc='center left', bbox_to_anchor=(1, 0.5))"
   ]
  },
  {
   "cell_type": "code",
   "execution_count": null,
   "metadata": {},
   "outputs": [],
   "source": [
    "# plot clustering coef with sem\n",
    "color_4st=['green','red','blue','black']\n",
    "for st in range(4):\n",
    "    plt.plot (np.arange(30)+1,avg_clus_mean_4st[st],color=color_4st[st])\n",
    "    plt.fill_between(np.arange(30)+1,avg_clus_mean_4st[st]-avg_clus_sem_4st[st],\\\n",
    "                     avg_clus_mean_4st[st]+avg_clus_sem_4st[st],\\\n",
    "                        color=color_4st[st], alpha=.1)\n",
    "\n",
    "plt.xlabel(\"frequency (Hz)\")\n",
    "plt.ylabel(\"average clustering coefficient\")\n",
    "\n",
    "\n",
    "plt.title('from boolean of the partial_correlation network(trial level)')\n",
    "plt.grid()\n",
    "\n",
    "plt.legend(['Uncoupled mean', 'Uncoupled sem', 'Leading mean', 'Leading sem',\n",
    "    'Following mean', 'Following sem','Mutual mean','Mutual sem'],ncol=1,\n",
    "    loc='center left', bbox_to_anchor=(1, 0.5))\n"
   ]
  },
  {
   "cell_type": "code",
   "execution_count": null,
   "metadata": {},
   "outputs": [],
   "source": [
    "# # plot small world coefficient sigma\n",
    "# color_4st=['green','red','blue','black']\n",
    "# for st in range(4):\n",
    "#     plt.plot (np.arange(30)+1,sw_sigma_mean_4st[st],color=color_4st[st])\n",
    "#     plt.fill_between(np.arange(30)+1,sw_sigma_mean_4st[st]-sw_sigma_sem_4st[st],\\\n",
    "#                      sw_sigma_mean_4st[st]+sw_sigma_sem_4st[st],\\\n",
    "#                         color=color_4st[st], alpha=.1)\n",
    "\n",
    "# plt.xlabel(\"frequency (Hz)\")\n",
    "# plt.ylabel(\"small world coefficient sigma\")\n",
    "\n",
    "\n",
    "# plt.title('from boolean of the partial_correlation network(trial level)')\n",
    "# plt.grid()\n",
    "\n",
    "# plt.legend(['Uncoupled mean', 'Uncoupled sem', 'Leading mean', 'Leading sem',\n",
    "#     'Following mean', 'Following sem','Mutual mean','Mutual sem'],ncol=1,\n",
    "#     loc='center left', bbox_to_anchor=(1, 0.5))\n"
   ]
  },
  {
   "cell_type": "code",
   "execution_count": null,
   "metadata": {},
   "outputs": [],
   "source": [
    "# # plot small world coefficient omega\n",
    "# color_4st=['green','red','blue','black']\n",
    "# for st in range(4):\n",
    "#     plt.plot (np.arange(30)+1,sw_omega_mean_4st[st],color=color_4st[st])\n",
    "#     plt.fill_between(np.arange(30)+1,sw_omega_mean_4st[st]-sw_omega_sem_4st[st],\\\n",
    "#                      sw_omega_mean_4st[st]+sw_omega_sem_4st[st],\\\n",
    "#                         color=color_4st[st], alpha=.1)\n",
    "\n",
    "# plt.xlabel(\"frequency (Hz)\")\n",
    "# plt.ylabel(\"small world coefficient omega\")\n",
    "\n",
    "\n",
    "# plt.title('from boolean of the partial_correlation network(trial level)')\n",
    "# plt.grid()\n",
    "\n",
    "# plt.legend(['Uncoupled mean', 'Uncoupled sem', 'Leading mean', 'Leading sem',\n",
    "#     'Following mean', 'Following sem','Mutual mean','Mutual sem'],ncol=1,\n",
    "#     loc='center left', bbox_to_anchor=(1, 0.5))"
   ]
  }
 ],
 "metadata": {
  "kernelspec": {
   "display_name": "eeg",
   "language": "python",
   "name": "python3"
  },
  "language_info": {
   "codemirror_mode": {
    "name": "ipython",
    "version": 3
   },
   "file_extension": ".py",
   "mimetype": "text/x-python",
   "name": "python",
   "nbconvert_exporter": "python",
   "pygments_lexer": "ipython3",
   "version": "3.9.13"
  },
  "orig_nbformat": 4,
  "vscode": {
   "interpreter": {
    "hash": "92151dfd069a0a59e8342616fc1173887a1e4fb36078a0282eb66543f78e24f8"
   }
  }
 },
 "nbformat": 4,
 "nbformat_minor": 2
}
