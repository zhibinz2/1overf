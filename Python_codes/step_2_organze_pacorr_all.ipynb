{
 "cells": [
  {
   "cell_type": "code",
   "execution_count": 1,
   "metadata": {},
   "outputs": [],
   "source": [
    "from hdf5storage import loadmat, savemat \n",
    "import numpy as np "
   ]
  },
  {
   "attachments": {},
   "cell_type": "markdown",
   "metadata": {},
   "source": [
    "locate the files"
   ]
  },
  {
   "cell_type": "code",
   "execution_count": 2,
   "metadata": {},
   "outputs": [],
   "source": [
    "# organize file in time sequence\n",
    "filedates=[20220713,20220721,20220804,20220808,20220810,20220811,20220815,20220816,20221003,2022100401,2022100402,20221005]\n",
    "numSes=len(filedates)"
   ]
  },
  {
   "cell_type": "code",
   "execution_count": 8,
   "metadata": {},
   "outputs": [],
   "source": [
    "filedir=\"/home/zhibinz2/zhibin/analysis/\" # your own data directory\n",
    "pathname = 'Cleaned_data/'\n",
    "dir=filedir+pathname"
   ]
  },
  {
   "attachments": {},
   "cell_type": "markdown",
   "metadata": {},
   "source": [
    "organize pacorr"
   ]
  },
  {
   "cell_type": "code",
   "execution_count": 4,
   "metadata": {},
   "outputs": [],
   "source": [
    "pacorr_all=np.zeros((12,2,12,30,32,32))\n",
    "for ses in range(12):\n",
    "\tfilename='clean_'+str(filedates[ses])+'_pcorr.mat'\n",
    "\toutdict=loadmat('pcorr/'+filename)\n",
    "\tpartial_correlation=outdict['partial_correlation']\n",
    "\tfor subj in range(2):\n",
    "\t\tfor trl in range(12):\t\t\t\n",
    "\t\t\tfor freq in range(30):\n",
    "\t\t\t\tpacorr_all[ses][subj][trl][freq,:,:]=partial_correlation[subj][trl][freq,:,:]\n",
    "\tdel(partial_correlation)\n",
    "\n"
   ]
  },
  {
   "cell_type": "code",
   "execution_count": 5,
   "metadata": {},
   "outputs": [],
   "source": [
    "outdict=dict()\n",
    "outdict['pacorr_all']=pacorr_all\n",
    "savemat('pacorr_all.mat',outdict,store_python_metadata=True)"
   ]
  },
  {
   "attachments": {},
   "cell_type": "markdown",
   "metadata": {},
   "source": [
    "organze conditions"
   ]
  },
  {
   "cell_type": "code",
   "execution_count": 9,
   "metadata": {},
   "outputs": [],
   "source": [
    "conditions_all=[]\n",
    "from zzpackage.zzmodule import Zclass\n",
    "for i in range(len(filedates)): # in time sequence    \n",
    "    filename='clean_'+str(filedates[i])+'.mat' \n",
    "    _, _,_,_,conditions,_,_,_,_,_,_,_,sr = Zclass.loadmatvar2(dir,filename) \n",
    "    conditions_all.append(conditions)\n",
    "\n",
    "# takes 2 min"
   ]
  },
  {
   "cell_type": "code",
   "execution_count": null,
   "metadata": {},
   "outputs": [],
   "source": [
    "outdict=dict()\n",
    "outdict['conditions_all']=conditions_all\n",
    "savemat('conditions_all',outdict,store_python_metadata=True)"
   ]
  }
 ],
 "metadata": {
  "kernelspec": {
   "display_name": "base",
   "language": "python",
   "name": "python3"
  },
  "language_info": {
   "codemirror_mode": {
    "name": "ipython",
    "version": 3
   },
   "file_extension": ".py",
   "mimetype": "text/x-python",
   "name": "python",
   "nbconvert_exporter": "python",
   "pygments_lexer": "ipython3",
   "version": "3.9.13"
  },
  "orig_nbformat": 4,
  "vscode": {
   "interpreter": {
    "hash": "17b0b751a843f9cb4dea2611a4ce474c0b5eafa09e2c3e69ad3a32fe03d403fd"
   }
  }
 },
 "nbformat": 4,
 "nbformat_minor": 2
}
