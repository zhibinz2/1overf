{
 "cells": [
  {
   "cell_type": "code",
   "execution_count": 1,
   "metadata": {},
   "outputs": [],
   "source": [
    "from hdf5storage import loadmat, savemat \n",
    "import numpy as np \n",
    "\n"
   ]
  },
  {
   "cell_type": "code",
   "execution_count": 2,
   "metadata": {},
   "outputs": [],
   "source": [
    "outdict=loadmat('conditions_all.mat')\n",
    "conditions_all=outdict[\"conditions_all\"]"
   ]
  },
  {
   "cell_type": "code",
   "execution_count": 3,
   "metadata": {},
   "outputs": [],
   "source": [
    "# %% Organize indicies for the 4 states\n",
    "Uncoupled_Ind=np.zeros((12,3))\n",
    "L_Lead_Ind=np.zeros((12,3)) # they were leading indicies for L subject but following for R\n",
    "R_Lead_Ind=np.zeros((12,3))\n",
    "Mutual_Ind=np.zeros((12,3))\n",
    "for ses in range(12):\n",
    "    Uncoupled_Ind[ses]=np.asarray(np.where(conditions_all[ses]==1))\n",
    "    L_Lead_Ind[ses]=np.asarray(np.where(conditions_all[ses]==2))\n",
    "    R_Lead_Ind[ses]=np.asarray(np.where(conditions_all[ses]==3))\n",
    "    Mutual_Ind[ses]=np.asarray(np.where(conditions_all[ses]==4))"
   ]
  },
  {
   "cell_type": "code",
   "execution_count": 4,
   "metadata": {},
   "outputs": [],
   "source": [
    "dict_pcorrall=loadmat('pacorr_all.mat')\n",
    "pacorr_all=dict_pcorrall['pacorr_all']"
   ]
  },
  {
   "cell_type": "code",
   "execution_count": 5,
   "metadata": {},
   "outputs": [],
   "source": [
    "# %% load pacor as bool\n",
    "# no need for thresholding\n",
    "nonzerosmat=np.zeros((12,2,12,30,32,32))\n",
    "for ses in range(12):\n",
    "\tfor subj in range(2):\n",
    "\t\tfor trl in range(12):\t\t\t\n",
    "\t\t\tfor freq in range(30):\n",
    "\t\t\t\tnonzerosmat[ses][subj][trl][freq,:,:]\\\n",
    "\t\t\t\t\t=np.array(pacorr_all[ses][subj][trl][freq,:,:],dtype=bool)"
   ]
  },
  {
   "cell_type": "code",
   "execution_count": 6,
   "metadata": {},
   "outputs": [],
   "source": [
    "# append all trials of the same state together\n",
    "append_Uncoupled=list(); append_Mutual=list()\n",
    "append_Leading=list(); append_Following=list()\n",
    "\n",
    "for ses in range(12):\n",
    "    for subj in range(2):\n",
    "        for trl in range(3):\n",
    "            if subj == 0:\n",
    "                append_Uncoupled.append(nonzerosmat[ses][subj][int(Uncoupled_Ind[ses][trl])])\n",
    "                append_Leading.append(nonzerosmat[ses][subj][int(L_Lead_Ind[ses][trl])])\n",
    "                append_Following.append(nonzerosmat[ses][subj][int(R_Lead_Ind[ses][trl])])\n",
    "                append_Mutual.append(nonzerosmat[ses][subj][int(Mutual_Ind[ses][trl])])\n",
    "            else:\n",
    "                append_Uncoupled.append(nonzerosmat[ses][subj][int(Uncoupled_Ind[ses][trl])])\n",
    "                append_Leading.append(nonzerosmat[ses][subj][int(R_Lead_Ind[ses][trl])])\n",
    "                append_Following.append(nonzerosmat[ses][subj][int(L_Lead_Ind[ses][trl])])\n",
    "                append_Mutual.append(nonzerosmat[ses][subj][int(Mutual_Ind[ses][trl])])\n",
    "\n",
    "#  combine the 4 states in a list\n",
    "append_4states=[append_Uncoupled,append_Leading,append_Following,append_Mutual]"
   ]
  },
  {
   "cell_type": "code",
   "execution_count": 7,
   "metadata": {},
   "outputs": [],
   "source": [
    "outdict=dict()\n",
    "outdict['append_4states']=append_4states\n",
    "savemat('append_4states',outdict,store_python_metadata=True)"
   ]
  }
 ],
 "metadata": {
  "kernelspec": {
   "display_name": "eeg",
   "language": "python",
   "name": "python3"
  },
  "language_info": {
   "codemirror_mode": {
    "name": "ipython",
    "version": 3
   },
   "file_extension": ".py",
   "mimetype": "text/x-python",
   "name": "python",
   "nbconvert_exporter": "python",
   "pygments_lexer": "ipython3",
   "version": "3.9.13"
  },
  "orig_nbformat": 4,
  "vscode": {
   "interpreter": {
    "hash": "92151dfd069a0a59e8342616fc1173887a1e4fb36078a0282eb66543f78e24f8"
   }
  }
 },
 "nbformat": 4,
 "nbformat_minor": 2
}
