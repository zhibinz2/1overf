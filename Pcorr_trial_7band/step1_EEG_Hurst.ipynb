{
 "cells": [
  {
   "cell_type": "code",
   "execution_count": 2,
   "metadata": {},
   "outputs": [],
   "source": [
    "import sys\n",
    "# sys.path.append('../../')\n",
    "\n",
    "from os import listdir\n",
    "\n",
    "from hdf5storage import loadmat, savemat \n",
    "import numpy as np \n",
    "from matplotlib import pyplot as plt\n",
    "\n",
    "from scipy import signal \n",
    "# from hnlpy.timeop import makefiltersos\n",
    "# from hnlpy.timeop import narrowfilter \n",
    "from scipy.signal import sosfiltfilt\n",
    "from scipy.signal import hilbert\n",
    "from scipy.signal import savgol_filter\n",
    "from scipy.stats import sem\n",
    "from numpy.polynomial.polynomial import polyfit, polyval\n",
    "\n",
    "import networkx as nx"
   ]
  },
  {
   "cell_type": "code",
   "execution_count": 3,
   "metadata": {},
   "outputs": [],
   "source": [
    "# organize file in time sequence\n",
    "filedates=[20220713,20220721,20220804,20220808,20220810,20220811,20220815,20220816,20221003,2022100401,2022100402,20221005]\n",
    "numSes=len(filedates)"
   ]
  },
  {
   "cell_type": "code",
   "execution_count": 4,
   "metadata": {},
   "outputs": [
    {
     "data": {
      "text/plain": [
       "dict_keys(['band_labels', 'channel_labels', 'channels', 'condition_names', 'eeg_Hurst', 'filename', 'intervals', 'samples', 'session', 'sessionTypes'])"
      ]
     },
     "execution_count": 4,
     "metadata": {},
     "output_type": "execute_result"
    }
   ],
   "source": [
    "ses=0\n",
    "outdict = loadmat('../Filter_Hilbert/Hurst_eeg_20_'+str(filedates[ses])+'.mat')\n",
    "outdict.keys()"
   ]
  },
  {
   "cell_type": "code",
   "execution_count": null,
   "metadata": {},
   "outputs": [],
   "source": [
    "outdict = loadmat('../Filter_Hilbert/Hurst_eeg_20_'+str(filedates[0])+'.mat')\n",
    "outdict.keys()"
   ]
  },
  {
   "cell_type": "code",
   "execution_count": null,
   "metadata": {},
   "outputs": [],
   "source": [
    "# put everything in 144 first dimenstion \n",
    "eeg_Hurst144x2       =np.zeros((144,2,7,32))\n",
    "condition_index144   =np.zeros((144))\n",
    "intervals144         =dict()\n",
    "samples144           =dict()\n",
    "session144           =np.zeros((144))\n",
    "n=0\n",
    "for ses in range(12):\n",
    "    outdict = loadmat('../Filter_Hilbert/Hurst_eeg_20_'+str(filedates[ses])+'.mat')\n",
    "    eeg_Hurst           = outdict['eeg_Hurst']          # 12x2x7x32\n",
    "    condition_index     = outdict['condition_index']    # 12\n",
    "    intervals           = outdict['intervals']          # 12x175x2\n",
    "    samples             = outdict['samples']            # 12x175x2\n",
    "    session             = outdict['session']            # 12\n",
    "    if ses == 0: # propagate the common variables and save in the mat file\n",
    "        new_sr              = outdict['new_sr']             \n",
    "        passbands           = outdict['passbands']          \n",
    "        stopbands           = outdict['stopbands']          \n",
    "        band_labels         = outdict['band_labels']   \n",
    "        condition_names     = outdict['condition_names']    \n",
    "        channels            = outdict['channels']           \n",
    "        channel_labels      = outdict['channel_labels']  \n",
    "        sessionTypes        = outdict['sessionTypes']    \n",
    "    for trl in range(12):\n",
    "        condition_index144[n]     = condition_index[trl]    # 12\n",
    "        intervals144[str(n)]      = intervals[trl]\n",
    "        samples144[str(n)]        = samples[trl]\n",
    "        session144[n]             = session[trl]\n",
    "        for subj in range(2):\n",
    "            eeg_Hurst144x2[n,subj]       = eeg_Hurst[trl,subj,:,:]\n",
    "        n+=1\n",
    "\n",
    "outdict = dict()\n",
    "outdict['eeg_Hurst144x2']       = eeg_Hurst144x2\n",
    "outdict['condition_index144']   = condition_index144\n",
    "outdict['intervals144']         = intervals144\n",
    "outdict['samples144']           = samples144\n",
    "outdict['session144']           = session144\n",
    "\n",
    "outdict['new_sr']               = new_sr\n",
    "outdict['passbands']            = passbands\n",
    "outdict['stopbands']            = stopbands\n",
    "outdict['band_labels']          = band_labels\n",
    "outdict['condition_names']      = condition_names\n",
    "outdict['channels']             = channels\n",
    "outdict['channel_labels']       = channel_labels\n",
    "outdict['sessionTypes']         = sessionTypes\n",
    "\n",
    "savemat('Hurst_eeg144',outdict,store_python_metadata = True) \n",
    "\n",
    "# takes 18 s\n"
   ]
  },
  {
   "cell_type": "code",
   "execution_count": null,
   "metadata": {},
   "outputs": [],
   "source": [
    "outdict=loadmat('Hurst_eeg144.mat')\n",
    "eeg_Hurst144x2      = outdict['eeg_Hurst144x2']       \n",
    "condition_index144  = outdict['condition_index144']   \n",
    "intervals144        = outdict['intervals144']         \n",
    "samples144          = outdict['samples144']           \n",
    "session144          = outdict['session144']\n",
    "\n",
    "new_sr              = outdict['new_sr']             \n",
    "passbands           = outdict['passbands']          \n",
    "stopbands           = outdict['stopbands']          \n",
    "band_labels         = outdict['band_labels']   \n",
    "condition_names     = outdict['condition_names']    \n",
    "channels            = outdict['channels']           \n",
    "channel_labels      = outdict['channel_labels']  \n",
    "sessionTypes        = outdict['sessionTypes']  "
   ]
  },
  {
   "cell_type": "code",
   "execution_count": null,
   "metadata": {},
   "outputs": [],
   "source": [
    "# organize indicies\n",
    "synch_ind=np.where(session144==1)\n",
    "synco_ind=np.where(session144==2)\n",
    "\n",
    "Uncoupled_ind=np.where(condition_index144==0)\n",
    "L_lead_ind   =np.where(condition_index144==1)\n",
    "R_lead_ind   =np.where(condition_index144==2)\n",
    "Mutual_ind   =np.where(condition_index144==3)\n",
    "\n",
    "# Uncoupled condition in Synch for L&R\n",
    "Uncoupled_synch_ind=np.intersect1d(synch_ind,Uncoupled_ind)\n",
    "# Uncoupled condition in Synco for L&R\n",
    "Uncoupled_synco_ind=np.intersect1d(synco_ind,Uncoupled_ind)\n",
    "\n",
    "# L_Leading in Synch / R_following in Synch\n",
    "L_lead_synch_ind=np.intersect1d(synch_ind,L_lead_ind)\n",
    "# R_leading in Synch / L_following in Synch\n",
    "R_lead_synch_ind=np.intersect1d(synch_ind,R_lead_ind)\n",
    "\n",
    "# L_Leading in Synco / R_following in Synco\n",
    "L_lead_synco_ind=np.intersect1d(synco_ind,L_lead_ind)\n",
    "# R_leading in Synco / L_following in Synco\n",
    "R_lead_synco_ind=np.intersect1d(synco_ind,R_lead_ind)\n",
    "\n",
    "# Mutual condition in Synch for L&R\n",
    "Mutual_synch_ind=np.intersect1d(synch_ind,Mutual_ind)\n",
    "# Mutual condition in Synco for L&R\n",
    "Mutual_synco_ind=np.intersect1d(synco_ind,Mutual_ind)\n"
   ]
  },
  {
   "cell_type": "code",
   "execution_count": null,
   "metadata": {},
   "outputs": [],
   "source": [
    "\n",
    "# parameters for plotting\n",
    "states4names=['Uncoupled','Leading','Following','Mutual'] \n",
    "syn2names=['Synch','Synco']\n",
    "states3names=['Independent','Unidirectional','Bidirectional']\n",
    "\n",
    "color_4st=['green','red','blue','black']"
   ]
  }
 ],
 "metadata": {
  "kernelspec": {
   "display_name": "eeg",
   "language": "python",
   "name": "python3"
  },
  "language_info": {
   "codemirror_mode": {
    "name": "ipython",
    "version": 3
   },
   "file_extension": ".py",
   "mimetype": "text/x-python",
   "name": "python",
   "nbconvert_exporter": "python",
   "pygments_lexer": "ipython3",
   "version": "3.9.13"
  },
  "orig_nbformat": 4,
  "vscode": {
   "interpreter": {
    "hash": "92151dfd069a0a59e8342616fc1173887a1e4fb36078a0282eb66543f78e24f8"
   }
  }
 },
 "nbformat": 4,
 "nbformat_minor": 2
}
