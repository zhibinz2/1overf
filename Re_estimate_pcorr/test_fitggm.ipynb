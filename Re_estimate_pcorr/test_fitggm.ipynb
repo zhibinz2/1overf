{
 "cells": [
  {
   "cell_type": "code",
   "execution_count": 2,
   "metadata": {},
   "outputs": [],
   "source": [
    "import numpy as np\n",
    "import warnings\n",
    "from hdf5storage import loadmat\n",
    "from matplotlib import pyplot as plt"
   ]
  },
  {
   "cell_type": "code",
   "execution_count": 5,
   "metadata": {},
   "outputs": [],
   "source": [
    "def convergence_test(fval, previous_fval, threshold=1e-4, warn=False):\n",
    "    \"\"\"\n",
    "    Check if an objective function has converged.\n",
    "\n",
    "    We have converged if the slope of the function falls below 'threshold',\n",
    "    i.e., |f(t) - f(t-1)| / avg < threshold,\n",
    "    where avg = (|f(t)| + |f(t-1)|)/2.\n",
    "    'threshold' defaults to 1e-4.\n",
    "    This stopping criterion is from Numerical Recipes in C p423.\n",
    "    \"\"\"\n",
    "\n",
    "    converged = False\n",
    "    delta_fval = np.abs(fval - previous_fval)\n",
    "    avg_fval = (np.abs(fval) + np.abs(previous_fval) + np.finfo(float).eps) / 2\n",
    "\n",
    "    if delta_fval / avg_fval < threshold:\n",
    "        converged = True\n",
    "\n",
    "    if warn and (fval - previous_fval) < -2 * np.finfo(float).eps:  # fval < previous_fval\n",
    "        warnings.warn('objective decreased!', UserWarning)\n",
    "\n",
    "    return converged"
   ]
  },
  {
   "cell_type": "code",
   "execution_count": 6,
   "metadata": {},
   "outputs": [],
   "source": [
    "def ggmFitHtf(S, G, maxIter=30):\n",
    "    # MLE for a precision matrix given known zeros in the graph\n",
    "    # S is d*d sample covariance matrix\n",
    "    # G is d*d adjacency matrix\n",
    "    # We use the algorithm due to \n",
    "    # Hastie, Tibshirani & Friedman (\"Elements\" book, 2nd Ed, 2008, p633)\n",
    "    # This file is from pmtk3.googlecode.com\n",
    "    p = S.shape[0] \n",
    "    W = S # W = inv(precMat)\n",
    "    precMat = np.zeros((p, p))\n",
    "    beta = np.zeros(p-1)\n",
    "    iter = 1\n",
    "    converged = False\n",
    "    normW = np.linalg.norm(W)\n",
    "    while not converged:\n",
    "        for i in range(p):\n",
    "            # partition W & S for i\n",
    "            noti = np.concatenate((np.arange(i), np.arange(i+1, p)))\n",
    "            W11 = W[noti,:][:,noti]\n",
    "            w12 = W[noti,i]\n",
    "            s22 = S[i,i]\n",
    "            s12 = S[noti,i]\n",
    "\n",
    "            # find G's non-zero index in W11\n",
    "            idx = np.nonzero(G[noti,i])[0]  # non-zeros in G11\n",
    "            beta[:] = 0\n",
    "            beta[idx] = np.linalg.solve(W11[np.ix_(idx,idx)], s12[idx])\n",
    "\n",
    "            # update W\n",
    "            w12 = W11 @ beta\n",
    "            W[noti,i] = w12 \n",
    "            W[i,noti] = w12\n",
    "\n",
    "            # update precMat (technically only needed on last iteration)\n",
    "            p22 = max([0,  1/(s22 - w12 @ beta)])  # must be non-neg\n",
    "            p12 = -beta * p22\n",
    "            precMat[noti,i] = p12\n",
    "            precMat[i,noti] = p12\n",
    "            precMat[i,i] = p22\n",
    "\n",
    "        converged = convergence_test(np.linalg.norm(W),normW) | (iter > maxIter)\n",
    "        normW = np.linalg.norm(W)\n",
    "        iter += 1\n",
    "\n",
    "    # ensure symmetry \n",
    "    precMat = (precMat + precMat.T)/2\n",
    "    \n",
    "    return precMat, iter\n"
   ]
  },
  {
   "cell_type": "code",
   "execution_count": 33,
   "metadata": {},
   "outputs": [
    {
     "data": {
      "text/plain": [
       "dict_keys(['alpha', 'covmat', 'likelihood', 'pcorr'])"
      ]
     },
     "execution_count": 33,
     "metadata": {},
     "output_type": "execute_result"
    }
   ],
   "source": [
    "data = loadmat('/home/zhibinz2/Documents/GitHub/1overf/Pcorr_single_model/pcorr_single.mat')\n",
    "\n",
    "data.keys()"
   ]
  },
  {
   "cell_type": "code",
   "execution_count": 37,
   "metadata": {},
   "outputs": [],
   "source": [
    "singlepcorr = data['pcorr']"
   ]
  },
  {
   "cell_type": "code",
   "execution_count": 35,
   "metadata": {},
   "outputs": [
    {
     "data": {
      "text/plain": [
       "dict_keys(['alphas', 'amplitude_correlation', 'channel_labels', 'channels', 'coherence', 'condition', 'condition_names', 'cross_spectrum', 'empirical_amplitude_correlation', 'intervals', 'partial_correlation', 'power', 'session', 'session_types'])"
      ]
     },
     "execution_count": 35,
     "metadata": {},
     "output_type": "execute_result"
    }
   ],
   "source": [
    "spectral = loadmat(\"/home/zhibinz2/Documents/GitHub/1overf/Pcorr_trial_level/pcorr/clean_20220713_pcorr.mat\")\n",
    "\n",
    "spectral.keys()"
   ]
  },
  {
   "cell_type": "code",
   "execution_count": 36,
   "metadata": {},
   "outputs": [],
   "source": [
    "ampcorr = spectral['empirical_amplitude_correlation']\n"
   ]
  },
  {
   "cell_type": "code",
   "execution_count": 51,
   "metadata": {},
   "outputs": [],
   "source": [
    "subj=0; trl=5; freq=3; \n",
    "S = ampcorr[subj,trl,freq,:,:]"
   ]
  },
  {
   "cell_type": "code",
   "execution_count": 52,
   "metadata": {},
   "outputs": [],
   "source": [
    "singlepcorr = data['pcorr']\n",
    "x = singlepcorr[freq,:,:]\n",
    "G = x.astype('bool')\n",
    "G = G.astype('int')"
   ]
  },
  {
   "cell_type": "code",
   "execution_count": 58,
   "metadata": {},
   "outputs": [
    {
     "data": {
      "text/plain": [
       "<matplotlib.colorbar.Colorbar at 0x7f6e21bf39d0>"
      ]
     },
     "execution_count": 58,
     "metadata": {},
     "output_type": "execute_result"
    },
    {
     "data": {
      "image/png": "[encoded data removed]",
      "text/plain": [
       "<Figure size 640x480 with 2 Axes>"
      ]
     },
     "metadata": {},
     "output_type": "display_data"
    }
   ],
   "source": [
    "precMat,iter = ggmFitHtf(S, G, maxIter=100)\n",
    "y = np.diag(precMat)\n",
    "yy = np.outer(y,y)\n",
    "yy = np.sqrt(yy)\n",
    "parcor = precMat/yy \n",
    "plt.imshow(parcor,vmin = -0.5,vmax = 0.5,cmap = 'jet')\n",
    "plt.colorbar()"
   ]
  }
 ],
 "metadata": {
  "kernelspec": {
   "display_name": "eeg",
   "language": "python",
   "name": "python3"
  },
  "language_info": {
   "codemirror_mode": {
    "name": "ipython",
    "version": 3
   },
   "file_extension": ".py",
   "mimetype": "text/x-python",
   "name": "python",
   "nbconvert_exporter": "python",
   "pygments_lexer": "ipython3",
   "version": "3.9.13"
  },
  "orig_nbformat": 4,
  "vscode": {
   "interpreter": {
    "hash": "92151dfd069a0a59e8342616fc1173887a1e4fb36078a0282eb66543f78e24f8"
   }
  }
 },
 "nbformat": 4,
 "nbformat_minor": 2
}
