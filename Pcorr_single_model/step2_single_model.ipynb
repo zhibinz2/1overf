{
 "cells": [
  {
   "cell_type": "code",
   "execution_count": 1,
   "metadata": {},
   "outputs": [
    {
     "name": "stdout",
     "output_type": "stream",
     "text": [
      "The scikit-learn version is 1.2.1.\n"
     ]
    }
   ],
   "source": [
    "from hdf5storage import loadmat, savemat \n",
    "import numpy as np \n",
    "\n",
    "from scipy import signal \n",
    "from scipy.fftpack import fft\n",
    "\n",
    "from sklearn.covariance import GraphicalLassoCV\n",
    "\n",
    "import sklearn\n",
    "print('The scikit-learn version is {}.'.format(sklearn.__version__)) \n",
    "# make sure it is newer version, works in version 1.2.1"
   ]
  },
  {
   "cell_type": "code",
   "execution_count": 2,
   "metadata": {},
   "outputs": [],
   "source": [
    "# load abs_zscore_all\n",
    "outdict=loadmat('abs_zscore_all.mat')\n",
    "abs_zscore_all=outdict[\"abs_zscore_all\"]"
   ]
  },
  {
   "cell_type": "code",
   "execution_count": 3,
   "metadata": {},
   "outputs": [],
   "source": [
    "# append abs_zscore in all trials together\n",
    "abs_zscore_all_append = list()\n",
    "for ses in range(12):\n",
    "    for subj in range(2):\n",
    "        for trl in range(12):\n",
    "            abs_zscore_all_append.append(abs_zscore_all[ses][trl][subj])\n",
    "\n",
    "ampdata=np.concatenate(abs_zscore_all_append)"
   ]
  },
  {
   "cell_type": "code",
   "execution_count": 4,
   "metadata": {},
   "outputs": [],
   "source": [
    "def partialcorrelation(ampdata,ncv=5):\n",
    "    pc_lasso = GraphicalLassoCV(cv=ncv)\n",
    "    nbin = np.shape(ampdata)[1]\n",
    "    nchan = np.shape(ampdata)[2]\n",
    "    pcorr = np.zeros((nbin,nchan,nchan))\n",
    "    alphas = np.zeros(nbin)\n",
    "    # likelihoods = list()\n",
    "    likelihoods = np.zeros(nbin)\n",
    "    covmat = np.zeros((nbin,nchan,nchan))\n",
    "    for f in range(nbin):\n",
    "        xx= np.abs(np.squeeze(ampdata[:,f,:]))\n",
    "        pc_lasso.fit(xx) # the system is too ill for this solver\n",
    "        covariance = pc_lasso.covariance_\n",
    "        precision = pc_lasso.precision_\n",
    "        alphas[f] = pc_lasso.alpha_\n",
    "        dict_cvresults=pc_lasso.cv_results_\n",
    "        best_alpha_ind=np.where(dict_cvresults['alphas']==pc_lasso.alpha_)\n",
    "        # likelihoods.append(pc_lasso.cv_results_[\"mean_test_score\"])\n",
    "        likelihoods[f] = pc_lasso.cv_results_[\"mean_test_score\"][best_alpha_ind][0]\n",
    "        parcor = np.zeros((32,32))\n",
    "        y = np.diag(precision)\n",
    "        yy = np.outer(y,y)\n",
    "        yy = np.sqrt(yy)\n",
    "        parcor = precision/yy\n",
    "        pcorr[f,:,:] = parcor\n",
    "        y = np.diag(covariance)\n",
    "        yy = np.outer(y,y)\n",
    "        yy = np.sqrt(yy)\n",
    "        parcor_cov = covariance/yy        \n",
    "        covmat[f,:,:] = parcor_cov \n",
    "    return pcorr,covmat,alphas,likelihoods  \n"
   ]
  },
  {
   "cell_type": "code",
   "execution_count": 5,
   "metadata": {},
   "outputs": [],
   "source": [
    "# parameters \n",
    "epoch = 1 #units: seconds\n",
    "maxf = 30 #units: Hz\n",
    "maxbin = maxf*epoch #convert maxf into number of bins to save"
   ]
  },
  {
   "cell_type": "code",
   "execution_count": 6,
   "metadata": {},
   "outputs": [
    {
     "name": "stderr",
     "output_type": "stream",
     "text": [
      "/home/zhibinz2/anaconda3/lib/python3.9/site-packages/numpy/core/_methods.py:230: RuntimeWarning: invalid value encountered in subtract\n",
      "  x = asanyarray(arr - arrmean)\n",
      "/home/zhibinz2/anaconda3/lib/python3.9/site-packages/numpy/core/_methods.py:230: RuntimeWarning: invalid value encountered in subtract\n",
      "  x = asanyarray(arr - arrmean)\n",
      "/home/zhibinz2/anaconda3/lib/python3.9/site-packages/numpy/core/_methods.py:230: RuntimeWarning: invalid value encountered in subtract\n",
      "  x = asanyarray(arr - arrmean)\n"
     ]
    }
   ],
   "source": [
    "# fit lasso model for each of the 4 conditions in 2 syn types\n",
    "pcorr,covmat,alphas,likelihoods = partialcorrelation(ampdata,ncv=5)\n",
    "\n",
    "outdict = dict()\n",
    "outdict['pcorr'] = pcorr\n",
    "outdict['covmat']= covmat, \n",
    "outdict['alpha'] = alphas\n",
    "outdict['likelihood'] = likelihoods\n",
    "\n",
    "# take 0.5 min"
   ]
  },
  {
   "cell_type": "code",
   "execution_count": 13,
   "metadata": {},
   "outputs": [],
   "source": [
    "# save syn_pcorr\n",
    "\n",
    "savemat('pcorr_single',outdict,store_python_metadata=True)\n",
    "\n"
   ]
  }
 ],
 "metadata": {
  "kernelspec": {
   "display_name": "base",
   "language": "python",
   "name": "python3"
  },
  "language_info": {
   "codemirror_mode": {
    "name": "ipython",
    "version": 3
   },
   "file_extension": ".py",
   "mimetype": "text/x-python",
   "name": "python",
   "nbconvert_exporter": "python",
   "pygments_lexer": "ipython3",
   "version": "3.9.13 (main, Aug 25 2022, 23:26:10) \n[GCC 11.2.0]"
  },
  "orig_nbformat": 4,
  "vscode": {
   "interpreter": {
    "hash": "17b0b751a843f9cb4dea2611a4ce474c0b5eafa09e2c3e69ad3a32fe03d403fd"
   }
  }
 },
 "nbformat": 4,
 "nbformat_minor": 2
}
