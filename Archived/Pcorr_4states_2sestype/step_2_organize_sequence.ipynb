{
 "cells": [
  {
   "cell_type": "code",
   "execution_count": 1,
   "metadata": {},
   "outputs": [],
   "source": [
    "from hdf5storage import loadmat, savemat \n",
    "import numpy as np "
   ]
  },
  {
   "cell_type": "code",
   "execution_count": 2,
   "metadata": {},
   "outputs": [],
   "source": [
    "# organize file in time sequence\n",
    "filedates=[20220713,20220721,20220804,20220808,20220810,20220811,20220815,20220816,20221003,2022100401,2022100402,20221005]\n",
    "numSes=len(filedates)"
   ]
  },
  {
   "cell_type": "code",
   "execution_count": 3,
   "metadata": {},
   "outputs": [],
   "source": [
    "filedir=\"/home/zhibinz2/zhibin/analysis/\" # your own data directory\n",
    "pathname = 'Cleaned_data/'\n",
    "dir=filedir+pathname"
   ]
  },
  {
   "cell_type": "code",
   "execution_count": 4,
   "metadata": {},
   "outputs": [],
   "source": [
    "def loadmatvar(dir,filename):\n",
    "    data=loadmat(dir+filename) # load one session\n",
    "    bpchan = int(data['bpchan'][0][0])\n",
    "    channels = data['channels'][0]\n",
    "    conditionNames = data['conditionNames'][0]\n",
    "    conditions = data['conditions'][0]\n",
    "    dataL = data['dataL'][0]\n",
    "    dataR = data['dataR'][0]\n",
    "    intervals = data['intervals'][0]\n",
    "    labels = data['labels'][0]\n",
    "    samples = data['samples'][0]\n",
    "    session = int(data['session'][0])\n",
    "    sessionTypes = data['sessionTypes'][0]\n",
    "    sr = int(data['sr'][0])\n",
    "    return data, bpchan,channels,conditionNames,\\\n",
    "        conditions,dataL,dataR,intervals,labels,\\\n",
    "            samples,session,sessionTypes,sr"
   ]
  },
  {
   "cell_type": "code",
   "execution_count": 5,
   "metadata": {},
   "outputs": [],
   "source": [
    "conditions_all=[]\n",
    "for i in range(len(filedates)): # in time sequence    \n",
    "    filename='clean_'+str(filedates[i])+'.mat' \n",
    "    _, _,_,_,conditions,_,_,_,_,_,_,_,sr =loadmatvar(dir,filename) \n",
    "    conditions_all.append(conditions)"
   ]
  },
  {
   "cell_type": "code",
   "execution_count": null,
   "metadata": {},
   "outputs": [],
   "source": [
    "outdict=dict()\n",
    "outdict['conditions_all']=conditions_all\n",
    "savemat('conditions_all',outdict,store_python_metadata=True)"
   ]
  }
 ],
 "metadata": {
  "kernelspec": {
   "display_name": "base",
   "language": "python",
   "name": "python3"
  },
  "language_info": {
   "codemirror_mode": {
    "name": "ipython",
    "version": 3
   },
   "file_extension": ".py",
   "mimetype": "text/x-python",
   "name": "python",
   "nbconvert_exporter": "python",
   "pygments_lexer": "ipython3",
   "version": "3.9.13 (main, Aug 25 2022, 23:26:10) \n[GCC 11.2.0]"
  },
  "orig_nbformat": 4,
  "vscode": {
   "interpreter": {
    "hash": "17b0b751a843f9cb4dea2611a4ce474c0b5eafa09e2c3e69ad3a32fe03d403fd"
   }
  }
 },
 "nbformat": 4,
 "nbformat_minor": 2
}
