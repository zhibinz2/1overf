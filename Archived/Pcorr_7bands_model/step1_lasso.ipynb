{
 "cells": [
  {
   "cell_type": "code",
   "execution_count": 2,
   "metadata": {},
   "outputs": [
    {
     "name": "stderr",
     "output_type": "stream",
     "text": [
      "/home/zhibinz2/anaconda3/envs/eeg/lib/python3.9/site-packages/sklearn/utils/multiclass.py:13: DeprecationWarning: Please use `spmatrix` from the `scipy.sparse` namespace, the `scipy.sparse.base` namespace is deprecated.\n",
      "  from scipy.sparse.base import spmatrix\n",
      "/home/zhibinz2/anaconda3/envs/eeg/lib/python3.9/site-packages/sklearn/linear_model/least_angle.py:30: DeprecationWarning: `np.float` is a deprecated alias for the builtin `float`. To silence this warning, use `float` by itself. Doing this will not modify any behavior and is safe. If you specifically wanted the numpy scalar type, use `np.float64` here.\n",
      "Deprecated in NumPy 1.20; for more details and guidance: https://numpy.org/devdocs/release/1.20.0-notes.html#deprecations\n",
      "  method='lar', copy_X=True, eps=np.finfo(np.float).eps,\n",
      "/home/zhibinz2/anaconda3/envs/eeg/lib/python3.9/site-packages/sklearn/linear_model/least_angle.py:167: DeprecationWarning: `np.float` is a deprecated alias for the builtin `float`. To silence this warning, use `float` by itself. Doing this will not modify any behavior and is safe. If you specifically wanted the numpy scalar type, use `np.float64` here.\n",
      "Deprecated in NumPy 1.20; for more details and guidance: https://numpy.org/devdocs/release/1.20.0-notes.html#deprecations\n",
      "  method='lar', copy_X=True, eps=np.finfo(np.float).eps,\n",
      "/home/zhibinz2/anaconda3/envs/eeg/lib/python3.9/site-packages/sklearn/linear_model/least_angle.py:284: DeprecationWarning: `np.float` is a deprecated alias for the builtin `float`. To silence this warning, use `float` by itself. Doing this will not modify any behavior and is safe. If you specifically wanted the numpy scalar type, use `np.float64` here.\n",
      "Deprecated in NumPy 1.20; for more details and guidance: https://numpy.org/devdocs/release/1.20.0-notes.html#deprecations\n",
      "  eps=np.finfo(np.float).eps, copy_Gram=True, verbose=0,\n",
      "/home/zhibinz2/anaconda3/envs/eeg/lib/python3.9/site-packages/sklearn/linear_model/least_angle.py:862: DeprecationWarning: `np.float` is a deprecated alias for the builtin `float`. To silence this warning, use `float` by itself. Doing this will not modify any behavior and is safe. If you specifically wanted the numpy scalar type, use `np.float64` here.\n",
      "Deprecated in NumPy 1.20; for more details and guidance: https://numpy.org/devdocs/release/1.20.0-notes.html#deprecations\n",
      "  eps=np.finfo(np.float).eps, copy_X=True, fit_path=True,\n",
      "/home/zhibinz2/anaconda3/envs/eeg/lib/python3.9/site-packages/sklearn/linear_model/least_angle.py:1101: DeprecationWarning: `np.float` is a deprecated alias for the builtin `float`. To silence this warning, use `float` by itself. Doing this will not modify any behavior and is safe. If you specifically wanted the numpy scalar type, use `np.float64` here.\n",
      "Deprecated in NumPy 1.20; for more details and guidance: https://numpy.org/devdocs/release/1.20.0-notes.html#deprecations\n",
      "  eps=np.finfo(np.float).eps, copy_X=True, fit_path=True,\n",
      "/home/zhibinz2/anaconda3/envs/eeg/lib/python3.9/site-packages/sklearn/linear_model/least_angle.py:1127: DeprecationWarning: `np.float` is a deprecated alias for the builtin `float`. To silence this warning, use `float` by itself. Doing this will not modify any behavior and is safe. If you specifically wanted the numpy scalar type, use `np.float64` here.\n",
      "Deprecated in NumPy 1.20; for more details and guidance: https://numpy.org/devdocs/release/1.20.0-notes.html#deprecations\n",
      "  eps=np.finfo(np.float).eps, positive=False):\n",
      "/home/zhibinz2/anaconda3/envs/eeg/lib/python3.9/site-packages/sklearn/linear_model/least_angle.py:1362: DeprecationWarning: `np.float` is a deprecated alias for the builtin `float`. To silence this warning, use `float` by itself. Doing this will not modify any behavior and is safe. If you specifically wanted the numpy scalar type, use `np.float64` here.\n",
      "Deprecated in NumPy 1.20; for more details and guidance: https://numpy.org/devdocs/release/1.20.0-notes.html#deprecations\n",
      "  max_n_alphas=1000, n_jobs=None, eps=np.finfo(np.float).eps,\n",
      "/home/zhibinz2/anaconda3/envs/eeg/lib/python3.9/site-packages/sklearn/linear_model/least_angle.py:1602: DeprecationWarning: `np.float` is a deprecated alias for the builtin `float`. To silence this warning, use `float` by itself. Doing this will not modify any behavior and is safe. If you specifically wanted the numpy scalar type, use `np.float64` here.\n",
      "Deprecated in NumPy 1.20; for more details and guidance: https://numpy.org/devdocs/release/1.20.0-notes.html#deprecations\n",
      "  max_n_alphas=1000, n_jobs=None, eps=np.finfo(np.float).eps,\n",
      "/home/zhibinz2/anaconda3/envs/eeg/lib/python3.9/site-packages/sklearn/linear_model/least_angle.py:1738: DeprecationWarning: `np.float` is a deprecated alias for the builtin `float`. To silence this warning, use `float` by itself. Doing this will not modify any behavior and is safe. If you specifically wanted the numpy scalar type, use `np.float64` here.\n",
      "Deprecated in NumPy 1.20; for more details and guidance: https://numpy.org/devdocs/release/1.20.0-notes.html#deprecations\n",
      "  eps=np.finfo(np.float).eps, copy_X=True, positive=False):\n",
      "/home/zhibinz2/anaconda3/envs/eeg/lib/python3.9/site-packages/sklearn/utils/optimize.py:18: DeprecationWarning: Please use `line_search_wolfe2` from the `scipy.optimize` namespace, the `scipy.optimize.linesearch` namespace is deprecated.\n",
      "  from scipy.optimize.linesearch import line_search_wolfe2, line_search_wolfe1\n",
      "/home/zhibinz2/anaconda3/envs/eeg/lib/python3.9/site-packages/sklearn/utils/optimize.py:18: DeprecationWarning: Please use `line_search_wolfe1` from the `scipy.optimize` namespace, the `scipy.optimize.linesearch` namespace is deprecated.\n",
      "  from scipy.optimize.linesearch import line_search_wolfe2, line_search_wolfe1\n"
     ]
    }
   ],
   "source": [
    "import sys\n",
    "sys.path.append('../../')\n",
    "\n",
    "# from os import listdir\n",
    "\n",
    "from hdf5storage import loadmat, savemat \n",
    "import numpy as np \n",
    "from matplotlib import pyplot as plt\n",
    "\n",
    "from scipy import signal \n",
    "from hnlpy.timeop import makefiltersos\n",
    "from hnlpy.timeop import narrowfilter \n",
    "from scipy.signal import sosfiltfilt\n",
    "from scipy.signal import hilbert\n",
    "# from scipy.signal import savgol_filter\n",
    "# from scipy.fftpack import fft\n",
    "# from scipy import stats # for zscoring\n",
    "\n",
    "from sklearn.covariance import GraphicalLassoCV\n",
    "\n",
    "# from numpy.polynomial.polynomial import polyfit, polyval\n",
    "\n",
    "import matplotlib.pyplot as plt"
   ]
  },
  {
   "cell_type": "code",
   "execution_count": 2,
   "metadata": {},
   "outputs": [],
   "source": [
    "# load data\n",
    "def loaddata(filename):\n",
    "    data = loadmat(filename)\n",
    "    bpchan = int(data['bpchan'][0][0])\n",
    "    channels = data['channels'][0]\n",
    "    conditionNames = data['conditionNames'][0]\n",
    "    conditions = data['conditions'][0]\n",
    "    eeg = dict()\n",
    "    eeg[0] = data['dataL'][0]\n",
    "    eeg[1] = data['dataR'][0]\n",
    "    intervals = data['intervals'][0]\n",
    "    labels = data['labels'][0]\n",
    "    samples = data['samples'][0]\n",
    "    session = int(data['session'][0])\n",
    "    sessionTypes = data['sessionTypes'][0]\n",
    "    sr = int(data['sr'][0])\n",
    "    #Labels and condition names doesnt come over cleanly from matlab \n",
    "    chan_labels = list()\n",
    "    condition_Names = list()\n",
    "    #pythonify condition index\n",
    "    condition_index = list()\n",
    "    for j in range(len(labels)):\n",
    "        chan_labels.append(labels[j][0])\n",
    "    for j in range(len(conditionNames)):\n",
    "        condition_Names.append(conditionNames[j][0])\n",
    "    for j in range(12):\n",
    "        condition_index.append(int(conditions[j]-1))\n",
    "    return eeg, intervals, samples, condition_index, session, sr, bpchan, condition_Names, channels, chan_labels, sessionTypes "
   ]
  },
  {
   "cell_type": "code",
   "execution_count": 3,
   "metadata": {},
   "outputs": [],
   "source": [
    "def avref(datax):\n",
    "\tref = np.mean(datax,axis = 1)\n",
    "\trefmat = np.tile(ref,(np.shape(datax)[1],1))\n",
    "\tdatax = datax - np.transpose(refmat)\n",
    "\treturn datax"
   ]
  },
  {
   "cell_type": "code",
   "execution_count": 6,
   "metadata": {},
   "outputs": [],
   "source": [
    "# build the narrow band filters\n",
    "srnew = 200 \n",
    "downsample = 10 \n",
    "passbands = [[1,3],[3.5,6.5],[7,10],[10.5,13.5],[14 ,20],[21,29],[30,49.5]]\n",
    "stopbands = [[0.75,3.25],[3.25,6.75],[6.75,10.25],[10.25,13.75],[13.75,20.5],[20.5,29.5],[29.5,50]]\n",
    "bandlabels = ['Delta','Theta','Alpha','Mu','Beta1','Beta2','Gamma']\n",
    "esos = dict()\n",
    "for j in range(len(passbands)):\n",
    "    esos[j],w,h = narrowfilter(passbands[j],stopbands[j],samplingrate = srnew)\n"
   ]
  },
  {
   "cell_type": "code",
   "execution_count": 5,
   "metadata": {},
   "outputs": [],
   "source": [
    "# organize file in time sequence\n",
    "filedir=\"../../\"\n",
    "pathname = 'Cleaned_data/'\n",
    "filedates=[20220713,20220721,20220804,20220808,20220810,20220811,20220815,20220816,20221003,2022100401,2022100402,20221005]\n",
    "numSes=len(filedates)"
   ]
  },
  {
   "cell_type": "code",
   "execution_count": 6,
   "metadata": {},
   "outputs": [],
   "source": [
    "# lasso parameters\n",
    "ncv = 5\n",
    "pc_lasso = GraphicalLassoCV(cv=ncv)"
   ]
  },
  {
   "cell_type": "code",
   "execution_count": 9,
   "metadata": {},
   "outputs": [],
   "source": [
    "# concatenate ampdata into 7 bands\n",
    "abs_hilbert7_append =  [[] for i in range(7)]\n",
    "for ses in range(12):\n",
    "    filename='clean_'+str(filedates[ses])+'.mat'\n",
    "    [eeg, intervals, samples, condition_index, session, sr, bpchan, \n",
    "                condition_Names, channels, chan_labels, sessionTypes] \\\n",
    "                    = loaddata(filedir+pathname+filename)\n",
    "    #make a low pass filter @ 50 Hz \n",
    "    sos_low, w,h = makefiltersos(sr,50,55)\n",
    "    empirical_ampcorr = np.zeros((12,2,7,32,32))\n",
    "    parcor = np.zeros((12,2,7,32,32))\n",
    "    for trial in range(12):\n",
    "        nsamp1 = np.shape(eeg[0][trial])[0]\n",
    "        nsamp2 = np.shape(eeg[1][trial])[0]\n",
    "        nsamp = np.min((nsamp1,nsamp2))\n",
    "        for subject in range(2): \n",
    "            trialdata = avref(eeg[subject][trial][0:nsamp,0:32]) \n",
    "            trialdata = sosfiltfilt(sos_low,trialdata,axis=0)\n",
    "            trialdatanew = trialdata[range(0,nsamp,downsample),:]\n",
    "            for frequency in range(7):\n",
    "                        filtdata = sosfiltfilt(esos[frequency],trialdatanew,axis = 0,padtype ='odd')\n",
    "                        hilbertdata = hilbert(filtdata,axis = 0)\n",
    "                        ampdata=np.abs(hilbertdata)\n",
    "                        abs_hilbert7_append[frequency].append(ampdata)\n",
    "\n",
    "# take 8 min"
   ]
  },
  {
   "cell_type": "code",
   "execution_count": null,
   "metadata": {},
   "outputs": [],
   "source": [
    "# concatenate all 288 trials in each bend\n",
    "amp_hilbert7_append =  [[] for i in range(7)]\n",
    "parcor = np.zeros((7,32,32))\n",
    "for freq in range(7):\n",
    "        amp_hilbert7_append[freq]=np.concatenate(abs_hilbert7_append[freq])\n",
    "        pc_lasso.fit(amp_hilbert7_append[freq])\n",
    "        precision = pc_lasso.precision_\n",
    "        y = np.diag(precision)\n",
    "        yy = np.outer(y,y)\n",
    "        yy = np.sqrt(yy)\n",
    "        parcor[freq] = precision/yy\n",
    "# take 14 min\n"
   ]
  },
  {
   "cell_type": "code",
   "execution_count": null,
   "metadata": {},
   "outputs": [],
   "source": [
    "fig, ax = plt.subplots(1,7,figsize=(3*7, 3))\n",
    "for freq in range(7):\n",
    "    plt.sca(ax[freq])\n",
    "    plt.imshow(parcor[freq].astype(bool), cmap='jet')\n",
    "    plt.title(bandlabels[freq])\n",
    "    plt.colorbar()"
   ]
  },
  {
   "cell_type": "code",
   "execution_count": 50,
   "metadata": {},
   "outputs": [],
   "source": [
    "outdict = dict()\n",
    "outdict['eeg_7band_pacorr'] = parcor\n",
    "outdict['new_sr'] = srnew\n",
    "outdict['passbands'] = passbands\n",
    "outdict['stopbands'] = stopbands\n",
    "outdict['band_labels'] = bandlabels\n",
    "outdict['channels'] = channels\n",
    "outdict['channel_labels'] = chan_labels\n",
    "savemat('eeg_7band_pacorr',outdict,store_python_metadata = True) "
   ]
  },
  {
   "cell_type": "code",
   "execution_count": 3,
   "metadata": {},
   "outputs": [],
   "source": [
    "# load pcorr_subj from the 7 band model\n",
    "outdict = loadmat('eeg_7band_pacorr.mat')\n",
    "eeg_7band_pacorr = outdict['eeg_7band_pacorr']"
   ]
  },
  {
   "cell_type": "code",
   "execution_count": 10,
   "metadata": {},
   "outputs": [
    {
     "data": {
      "image/png": "[encoded data removed]",
      "text/plain": [
       "<Figure size 2700x300 with 7 Axes>"
      ]
     },
     "metadata": {},
     "output_type": "display_data"
    }
   ],
   "source": [
    "fig, ax = plt.subplots(1,7,figsize=(3*9, 3))\n",
    "for freq in range(7):\n",
    "    plt.sca(ax[freq])\n",
    "    plt.imshow(eeg_7band_pacorr[freq].astype(bool), cmap='jet')\n",
    "    plt.title(bandlabels[freq])\n",
    "    plt.xlabel('channels')\n",
    "    plt.ylabel('channels')\n"
   ]
  }
 ],
 "metadata": {
  "kernelspec": {
   "display_name": "eeg",
   "language": "python",
   "name": "python3"
  },
  "language_info": {
   "codemirror_mode": {
    "name": "ipython",
    "version": 3
   },
   "file_extension": ".py",
   "mimetype": "text/x-python",
   "name": "python",
   "nbconvert_exporter": "python",
   "pygments_lexer": "ipython3",
   "version": "3.9.13 (main, Aug 25 2022, 23:26:10) \n[GCC 11.2.0]"
  },
  "orig_nbformat": 4,
  "vscode": {
   "interpreter": {
    "hash": "92151dfd069a0a59e8342616fc1173887a1e4fb36078a0282eb66543f78e24f8"
   }
  }
 },
 "nbformat": 4,
 "nbformat_minor": 2
}
