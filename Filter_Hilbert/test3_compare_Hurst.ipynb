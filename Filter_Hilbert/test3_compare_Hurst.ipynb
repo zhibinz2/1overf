{
 "cells": [
  {
   "cell_type": "code",
   "execution_count": 3,
   "metadata": {},
   "outputs": [],
   "source": [
    "import sys\n",
    "sys.path.append('../../')\n",
    "\n",
    "from os import listdir\n",
    "\n",
    "from hdf5storage import loadmat, savemat \n",
    "import numpy as np \n",
    "from matplotlib import pyplot as plt\n",
    "\n",
    "from scipy import signal \n",
    "from hnlpy.timeop import makefiltersos\n",
    "from hnlpy.timeop import narrowfilter \n",
    "from scipy.signal import sosfiltfilt\n",
    "from scipy.signal import hilbert\n",
    "from scipy.signal import savgol_filter\n",
    "\n",
    "from numpy.polynomial.polynomial import polyfit, polyval"
   ]
  },
  {
   "attachments": {},
   "cell_type": "markdown",
   "metadata": {},
   "source": [
    "Try comparing sampling rate of 200 and 125 in one session and comparing DFA 5/5 vs 20/20"
   ]
  },
  {
   "cell_type": "code",
   "execution_count": 4,
   "metadata": {},
   "outputs": [],
   "source": [
    "# load Hurst from 20/20 DFA \n",
    "# General: a single model for all\n",
    "outdict = loadmat('Hurst_eeg_20_20220713.mat')\n",
    "eeg_Hurst           = outdict['eeg_Hurst']        \n",
    "new_sr              = outdict['new_sr']           \n",
    "passbands           = outdict['passbands']        \n",
    "stopbands           = outdict['stopbands']        \n",
    "band_labels         = outdict['band_labels']      \n",
    "filename            = outdict['filename']         \n",
    "condition_index     = outdict['condition_index']  \n",
    "condition_names     = outdict['condition_names']  \n",
    "channels            = outdict['channels']         \n",
    "channel_labels      = outdict['channel_labels']   \n",
    "intervals           = outdict['intervals']        \n",
    "samples             = outdict['samples']          \n",
    "sessionTypes        = outdict['sessionTypes']     \n",
    "session             = outdict['session']        \n"
   ]
  },
  {
   "cell_type": "code",
   "execution_count": 6,
   "metadata": {},
   "outputs": [],
   "source": [
    "eeg_Hurst_20=eeg_Hurst"
   ]
  },
  {
   "cell_type": "code",
   "execution_count": 7,
   "metadata": {},
   "outputs": [],
   "source": [
    "  # load Hurst 125\n",
    "# General: a single model for all\n",
    "outdict = loadmat('Hurst_eeg_125_20220713.mat')\n",
    "eeg_Hurst           = outdict['eeg_Hurst']        \n",
    "new_sr              = outdict['new_sr']           \n",
    "passbands           = outdict['passbands']        \n",
    "stopbands           = outdict['stopbands']        \n",
    "band_labels         = outdict['band_labels']      \n",
    "filename            = outdict['filename']         \n",
    "condition_index     = outdict['condition_index']  \n",
    "condition_names     = outdict['condition_names']  \n",
    "channels            = outdict['channels']         \n",
    "channel_labels      = outdict['channel_labels']   \n",
    "intervals           = outdict['intervals']        \n",
    "samples             = outdict['samples']          \n",
    "sessionTypes        = outdict['sessionTypes']     \n",
    "session             = outdict['session']        "
   ]
  },
  {
   "cell_type": "code",
   "execution_count": 8,
   "metadata": {},
   "outputs": [],
   "source": [
    "eeg_Hurst_125=eeg_Hurst"
   ]
  },
  {
   "cell_type": "code",
   "execution_count": 9,
   "metadata": {},
   "outputs": [],
   "source": [
    "  # load Hurst 200\n",
    "# General: a single model for all\n",
    "outdict = loadmat('Hurst_eeg_125_20220713.mat')\n",
    "eeg_Hurst           = outdict['eeg_Hurst']        \n",
    "new_sr              = outdict['new_sr']           \n",
    "passbands           = outdict['passbands']        \n",
    "stopbands           = outdict['stopbands']        \n",
    "band_labels         = outdict['band_labels']      \n",
    "filename            = outdict['filename']         \n",
    "condition_index     = outdict['condition_index']  \n",
    "condition_names     = outdict['condition_names']  \n",
    "channels            = outdict['channels']         \n",
    "channel_labels      = outdict['channel_labels']   \n",
    "intervals           = outdict['intervals']        \n",
    "samples             = outdict['samples']          \n",
    "sessionTypes        = outdict['sessionTypes']     \n",
    "session             = outdict['session']        "
   ]
  },
  {
   "cell_type": "code",
   "execution_count": null,
   "metadata": {},
   "outputs": [],
   "source": [
    "eeg_Hurst_200=eeg_Hurst"
   ]
  },
  {
   "cell_type": "code",
   "execution_count": 29,
   "metadata": {},
   "outputs": [],
   "source": [
    "# compare Hurst 200 5/5 and Hurst 125 5/5\n",
    "mean_H_200_5=np.zeros((4,2,7,32))\n",
    "mean_H_125_5=np.zeros((4,2,7,32))\n",
    "for condi in range(4):\n",
    "    for subj in range(2):\n",
    "        mean_H_200_5[condi,subj,:,:]=np.mean(np.squeeze(eeg_Hurst_200[np.where(np.array(condition_index)==condi),subj,:,:]),axis=0)\n",
    "        mean_H_125_5[condi,subj,:,:]=np.mean(np.squeeze(eeg_Hurst_125[np.where(np.array(condition_index)==condi),subj,:,:]),axis=0)"
   ]
  },
  {
   "cell_type": "code",
   "execution_count": null,
   "metadata": {},
   "outputs": [],
   "source": [
    "# plot the comparison\n",
    "for subj in range(2):\n",
    "    fig, ax = plt.subplots(2,4,figsize=(6*4, 4))\n",
    "    for condi in range(4):\n",
    "        compare1=plt.sca(ax[0,condi])\n",
    "        plt.imshow(mean_H_200_5[condi,subj,:,:],vmin=0.5,vmax=1,cmap=plt.cm.jet)\n",
    "        plt.xlabel('channels'); plt.ylabel('frequency')\n",
    "        plt.title('mean Hurst Sr200: subj '+str(subj)+' condi '+str(condi))\n",
    "        plt.sca(ax[1,condi])\n",
    "        compare2=plt.imshow(mean_H_125_5[condi,subj,:,:],vmin=0.5,vmax=1,cmap=plt.cm.jet)\n",
    "        plt.xlabel('channels'); plt.ylabel('frequency')\n",
    "        plt.title('mean Hurst Sr125: subj '+str(subj)+' condi '+str(condi))\n",
    "        \n",
    "    fig.subplots_adjust(right=0.8)\n",
    "    cbar_ax = fig.add_axes([0.83, 0.15, 0.01, 0.7])\n",
    "\n",
    "    cbar_node=fig.colorbar(compare2,cbar_ax)\n",
    "    cbar_node.ax.tick_params(labelsize=10)\n",
    "    cbar_node.set_label('Hurst')\n"
   ]
  },
  {
   "cell_type": "code",
   "execution_count": 37,
   "metadata": {},
   "outputs": [],
   "source": [
    "# compare Hurst 200 5/5 and Hurst 200 20/20\n",
    "mean_H_200_5=np.zeros((4,2,7,32))\n",
    "mean_H_200_20=np.zeros((4,2,7,32))\n",
    "for condi in range(4):\n",
    "    for subj in range(2):\n",
    "        mean_H_200_5[condi,subj,:,:]=np.mean(np.squeeze(eeg_Hurst_200[np.where(np.array(condition_index)==condi),subj,:,:]),axis=0)\n",
    "        mean_H_200_20[condi,subj,:,:]=np.mean(np.squeeze(eeg_Hurst_20[np.where(np.array(condition_index)==condi),subj,:,:]),axis=0)"
   ]
  },
  {
   "cell_type": "code",
   "execution_count": null,
   "metadata": {},
   "outputs": [],
   "source": [
    "# plot the comparison\n",
    "for subj in range(2):\n",
    "    fig, ax = plt.subplots(2,4,figsize=(6*4, 4))\n",
    "    for condi in range(4):\n",
    "        plt.sca(ax[0,condi])\n",
    "        plt.imshow(mean_H_200_5[condi,subj,:,:],vmin=0.5,vmax=1,cmap='jet')\n",
    "        plt.xlabel('channels'); plt.ylabel('frequency')\n",
    "        plt.title('mean Hurst DFA 5/5 Sr200: subj '+str(subj)+' condi '+str(condi))\n",
    "        plt.sca(ax[1,condi])\n",
    "        compare2=plt.imshow(mean_H_200_20[condi,subj,:,:],vmin=0.5,vmax=1,cmap='jet')\n",
    "        plt.xlabel('channels'); plt.ylabel('frequency')\n",
    "        plt.title('mean Hurst DFA 20/20 Sr200: subj '+str(subj)+' condi '+str(condi))\n",
    "\n",
    "    fig.subplots_adjust(right=0.8)\n",
    "    cbar_ax = fig.add_axes([0.83, 0.15, 0.01, 0.7])\n",
    "\n",
    "    cbar_node=fig.colorbar(compare2,cbar_ax)\n",
    "    cbar_node.ax.tick_params(labelsize=10)\n",
    "    cbar_node.set_label('Hurst')"
   ]
  },
  {
   "attachments": {},
   "cell_type": "markdown",
   "metadata": {},
   "source": [
    "Comparing with time sequence and state index in 12 sessions"
   ]
  },
  {
   "cell_type": "code",
   "execution_count": 1,
   "metadata": {},
   "outputs": [],
   "source": [
    "# organize file in time sequence\n",
    "# filedir=\"../../\"\n",
    "# pathname = 'Cleaned_data/'\n",
    "filedates=[20220713,20220721,20220804,20220808,20220810,20220811,20220815,20220816,20221003,2022100401,2022100402,20221005]\n",
    "numSes=len(filedates)"
   ]
  },
  {
   "attachments": {},
   "cell_type": "markdown",
   "metadata": {},
   "source": [
    "comparing Hurst_eeg"
   ]
  },
  {
   "cell_type": "code",
   "execution_count": 4,
   "metadata": {},
   "outputs": [],
   "source": [
    "# test in one file\n",
    "ses=1\n",
    "outdict = loadmat('Hurst_eeg_20_'+str(filedates[ses])+'.mat')\n",
    "eeg_Hurst           = outdict['eeg_Hurst']          # 12x2x7x32\n",
    "new_sr              = outdict['new_sr']             \n",
    "passbands           = outdict['passbands']          \n",
    "stopbands           = outdict['stopbands']          \n",
    "band_labels         = outdict['band_labels']        \n",
    "filename            = outdict['filename']           \n",
    "condition_index     = outdict['condition_index']    # 12\n",
    "condition_names     = outdict['condition_names']    \n",
    "channels            = outdict['channels']           \n",
    "channel_labels      = outdict['channel_labels']     \n",
    "intervals           = outdict['intervals']          # 12x175x2\n",
    "samples             = outdict['samples']            # 12x175x2\n",
    "sessionTypes        = outdict['sessionTypes']       \n",
    "session             = outdict['session']            # 12"
   ]
  },
  {
   "cell_type": "code",
   "execution_count": 21,
   "metadata": {},
   "outputs": [],
   "source": [
    "# put everything in 144 first dimenstion \n",
    "eeg_Hurst144x2       =np.zeros((144,2,7,32))\n",
    "condition_index144   =np.zeros((144))\n",
    "intervals144         =dict()\n",
    "samples144           =dict()\n",
    "session144           =np.zeros((144))\n",
    "n=0\n",
    "for ses in range(12):\n",
    "    outdict = loadmat('Hurst_eeg_20_'+str(filedates[ses])+'.mat')\n",
    "    eeg_Hurst           = outdict['eeg_Hurst']          # 12x2x7x32\n",
    "    condition_index     = outdict['condition_index']    # 12\n",
    "    intervals           = outdict['intervals']          # 12x175x2\n",
    "    samples             = outdict['samples']            # 12x175x2\n",
    "    session             = outdict['session']            # 12\n",
    "    for trl in range(12):\n",
    "        condition_index144[n]     = condition_index[trl]    # 12\n",
    "        intervals144[str(n)]      = intervals[trl]\n",
    "        samples144[str(n)]        = samples[trl]\n",
    "        session144[n]             = session[trl]\n",
    "        for subj in range(2):\n",
    "            eeg_Hurst144x2[n,subj]       = eeg_Hurst[trl,subj,:,:]\n",
    "        n+=1\n",
    "\n",
    "outdict = dict()\n",
    "outdict['eeg_Hurst144x2']       = eeg_Hurst144x2\n",
    "outdict['condition_index144']   = condition_index144\n",
    "outdict['intervals144']         = intervals144\n",
    "outdict['samples144']           = samples144\n",
    "outdict['session144']           = session144\n",
    "savemat('Hurst_eeg144',outdict,store_python_metadata = True) \n"
   ]
  },
  {
   "cell_type": "code",
   "execution_count": 132,
   "metadata": {},
   "outputs": [
    {
     "data": {
      "text/plain": [
       "(7, 32)"
      ]
     },
     "execution_count": 132,
     "metadata": {},
     "output_type": "execute_result"
    }
   ],
   "source": [
    "np.shape(np.mean(np.concatenate((eeg_Hurst144x2[Uncoupled_synch_ind,0,:,:], eeg_Hurst144x2[Uncoupled_synch_ind,1,:,:]),axis=0),axis=0))"
   ]
  },
  {
   "cell_type": "code",
   "execution_count": 135,
   "metadata": {},
   "outputs": [],
   "source": [
    "eeg_Hurst144x2 # 144x2x7x32 \n",
    "eeg_H_mean=np.zeros((2,4,7,32)) # 2 syn types x 4 condi x 7 freq x 32 chan\n",
    "\n",
    "# Uncoupled\n",
    "eeg_H_mean[0,0,:,:]=np.mean(np.concatenate((eeg_Hurst144x2[Uncoupled_synch_ind,0,:,:], \\\n",
    "                                        eeg_Hurst144x2[Uncoupled_synch_ind,1,:,:]),axis=0),axis=0)\n",
    "eeg_H_mean[1,0,:,:]=np.mean(np.concatenate((eeg_Hurst144x2[Uncoupled_synco_ind,0,:,:], \\\n",
    "                                        eeg_Hurst144x2[Uncoupled_synco_ind,1,:,:]),axis=0),axis=0)\n",
    "\n",
    "# Leading for L&R\n",
    "eeg_H_mean[0,1,:,:]=np.mean(np.concatenate((eeg_Hurst144x2[L_lead_synch_ind,0,:,:],\\\n",
    "                                        eeg_Hurst144x2[R_lead_synch_ind,1,:,:]),axis=0),axis=0)\n",
    "eeg_H_mean[1,1,:,:]=np.mean(np.concatenate((eeg_Hurst144x2[L_lead_synco_ind,0,:,:],\\\n",
    "                                        eeg_Hurst144x2[R_lead_synco_ind,1,:,:]),axis=0),axis=0)\n",
    "\n",
    "# Following for L&R\n",
    "eeg_H_mean[0,2,:,:]=np.mean(np.concatenate((eeg_Hurst144x2[L_lead_synch_ind,1,:,:],\\\n",
    "                                        eeg_Hurst144x2[R_lead_synch_ind,0,:,:]),axis=0),axis=0)\n",
    "eeg_H_mean[1,2,:,:]=np.mean(np.concatenate((eeg_Hurst144x2[L_lead_synco_ind,1,:,:],\\\n",
    "                                        eeg_Hurst144x2[R_lead_synco_ind,0,:,:]),axis=0),axis=0)\n",
    "\n",
    "# Mutual\n",
    "eeg_H_mean[0,3,:,:]=np.mean(np.concatenate((eeg_Hurst144x2[Mutual_synch_ind,0,:,:], \\\n",
    "                                        eeg_Hurst144x2[Mutual_synch_ind,1,:,:]),axis=0),axis=0)\n",
    "eeg_H_mean[1,3,:,:]=np.mean(np.concatenate((eeg_Hurst144x2[Mutual_synco_ind,0,:,:], \\\n",
    "                                        eeg_Hurst144x2[Mutual_synco_ind,1,:,:]),axis=0),axis=0)\n",
    "\n",
    "\n"
   ]
  },
  {
   "cell_type": "code",
   "execution_count": 148,
   "metadata": {},
   "outputs": [
    {
     "data": {
      "image/png": "[encoded data removed]",
      "text/plain": [
       "<Figure size 2400x400 with 9 Axes>"
      ]
     },
     "metadata": {},
     "output_type": "display_data"
    }
   ],
   "source": [
    "# plot 2 syn x 4 condi \n",
    "# (note \"condition\" of leading and following here is different from \n",
    "# \"condition\" of L-lead and R-lead in the experiment design)\n",
    "fig, ax = plt.subplots(2,4,figsize=(6*4, 4))\n",
    "for syn in range(2):\n",
    "    for condi in range(4):\n",
    "        plt.sca(ax[syn,condi])\n",
    "        compare1=plt.imshow(eeg_H_mean[syn,condi,:,:],vmin=0.5,vmax=0.9,cmap=plt.cm.jet)\n",
    "        plt.xlabel('channels'); plt.ylabel('freq (Hz)')\n",
    "        plt.title('Sr200: subj '+str(subj)+' condi '+str(condi))\n",
    "        plt.xlabel('channels'); plt.ylabel('freq (Hz)')\n",
    "        plt.title('Mean eeg Hurst: '+states4names[condi])\n",
    "    \n",
    "fig.subplots_adjust(right=0.8)\n",
    "cbar_ax = fig.add_axes([0.83, 0.15, 0.01, 0.7])\n",
    "cbar_node=fig.colorbar(compare1,cbar_ax)\n",
    "cbar_node.ax.tick_params(labelsize=10)\n",
    "cbar_node.set_label('Hurst')"
   ]
  },
  {
   "attachments": {},
   "cell_type": "markdown",
   "metadata": {},
   "source": [
    "comparing Correlation"
   ]
  },
  {
   "cell_type": "code",
   "execution_count": 22,
   "metadata": {},
   "outputs": [],
   "source": [
    "# test in one file \n",
    "ses=1\n",
    "outdict = loadmat('Corr_eeg_200_'+str(filedates[ses])+'.mat')\n",
    "\n",
    "eeg_empirical_correlation   =outdict['eeg_empirical_correlation']   # 12X2X7X32X32\n",
    "eeg_partial_correlation     =outdict['eeg_partial_correlation']     # 12X2X7X32X32\n",
    "new_sr                      =outdict['new_sr']                      \n",
    "passbands                   =outdict['passbands']                   \n",
    "stopbands                   =outdict['stopbands']                   \n",
    "band_labels                 =outdict['band_labels']                 \n",
    "filename                    =outdict['filename']                    \n",
    "condition_index             =outdict['condition_index']             # 12\n",
    "condition_names             =outdict['condition_names']             \n",
    "channels                    =outdict['channels']                    \n",
    "channel_labels              =outdict['channel_labels']              \n",
    "intervals                   =outdict['intervals']                   # 12x175x2\n",
    "samples                     =outdict['samples']                     # 12x175x2\n",
    "sessionTypes                =outdict['sessionTypes']\n",
    "session                     =outdict['session']                     # 12\n",
    "\n"
   ]
  },
  {
   "cell_type": "code",
   "execution_count": 23,
   "metadata": {},
   "outputs": [],
   "source": [
    "# put everything in 144 first dimenstion \n",
    "eeg_empirical_correlation144x2   =np.zeros((144,2,7,32,32))\n",
    "eeg_partial_correlation144x2     =np.zeros((144,2,7,32,32))\n",
    "condition_index144   =np.zeros((144))\n",
    "intervals144         =dict()\n",
    "samples144           =dict()\n",
    "session144           =np.zeros((144))\n",
    "n=0\n",
    "for ses in range(12):\n",
    "    outdict = loadmat('Corr_eeg_200_'+str(filedates[ses])+'.mat')\n",
    "    eeg_empirical_correlation    = outdict['eeg_empirical_correlation']          # 12x2x7x32x32\n",
    "    eeg_partial_correlation      = outdict['eeg_partial_correlation']            # 12x2x7x32x32\n",
    "    condition_index     = outdict['condition_index']    # 12\n",
    "    intervals           = outdict['intervals']          # 12x175x2\n",
    "    samples             = outdict['samples']            # 12x175x2\n",
    "    session             = outdict['session']            # 12\n",
    "    for trl in range(12):\n",
    "        condition_index144[n]     = condition_index[trl]    # 12\n",
    "        intervals144[str(n)]      = intervals[trl]\n",
    "        samples144[str(n)]        = samples[trl]\n",
    "        session144[n]             = session[trl]\n",
    "        for subj in range(2):\n",
    "            eeg_empirical_correlation144x2[n,subj,:,:,:]     = eeg_empirical_correlation[trl,subj,:,:,:]\n",
    "            eeg_partial_correlation144x2[n,subj,:,:,:]       = eeg_partial_correlation[trl,subj,:,:,:]\n",
    "        n+=1\n",
    "\n",
    "outdict = dict()\n",
    "outdict['eeg_empirical_correlation144x2']     = eeg_empirical_correlation144x2\n",
    "outdict['eeg_partial_correlation144x2']       = eeg_partial_correlation144x2\n",
    "outdict['condition_index144']   = condition_index144\n",
    "outdict['intervals144']         = intervals144\n",
    "outdict['samples144']           = samples144\n",
    "outdict['session144']           = session144\n",
    "savemat('Corr_eeg144',outdict,store_python_metadata = True) \n"
   ]
  },
  {
   "cell_type": "code",
   "execution_count": 150,
   "metadata": {},
   "outputs": [],
   "source": [
    "eeg_partial_correlation144x2 # 144x2x7x32x32\n",
    "eeg_pcorr_mean7x2x4=np.zeros((2,4,7,32,32)) # 2 syn types x 4 condi x 7 freq x 32 chan\n",
    "\n",
    "for freq in range(7):\n",
    "    # Uncoupled\n",
    "    eeg_pcorr_mean7x2x4[0,0,freq,:,:]=np.mean(np.concatenate((eeg_partial_correlation144x2[Uncoupled_synch_ind,0,freq,:,:], \\\n",
    "                                            eeg_partial_correlation144x2[Uncoupled_synch_ind,1,freq,:,:]),axis=0),axis=0)\n",
    "    eeg_pcorr_mean7x2x4[1,0,freq,:,:]=np.mean(np.concatenate((eeg_partial_correlation144x2[Uncoupled_synco_ind,0,freq,:,:], \\\n",
    "                                            eeg_partial_correlation144x2[Uncoupled_synco_ind,1,freq,:,:]),axis=0),axis=0)\n",
    "\n",
    "    # Leading for L&R\n",
    "    eeg_pcorr_mean7x2x4[0,1,freq,:,:]=np.mean(np.concatenate((eeg_partial_correlation144x2[L_lead_synch_ind,0,freq,:,:],\\\n",
    "                                            eeg_partial_correlation144x2[R_lead_synch_ind,1,freq,:,:]),axis=0),axis=0)\n",
    "    eeg_pcorr_mean7x2x4[1,1,freq,:,:]=np.mean(np.concatenate((eeg_partial_correlation144x2[L_lead_synco_ind,0,freq,:,:],\\\n",
    "                                            eeg_partial_correlation144x2[R_lead_synco_ind,1,freq,:,:]),axis=0),axis=0)\n",
    "\n",
    "    # Following for L&R\n",
    "    eeg_pcorr_mean7x2x4[0,2,freq,:,:]=np.mean(np.concatenate((eeg_partial_correlation144x2[L_lead_synch_ind,1,freq,:,:],\\\n",
    "                                            eeg_partial_correlation144x2[R_lead_synch_ind,0,freq,:,:]),axis=0),axis=0)\n",
    "    eeg_pcorr_mean7x2x4[1,2,freq,:,:]=np.mean(np.concatenate((eeg_partial_correlation144x2[L_lead_synco_ind,1,freq,:,:],\\\n",
    "                                            eeg_partial_correlation144x2[R_lead_synco_ind,0,freq,:,:]),axis=0),axis=0)\n",
    "\n",
    "    # Mutual\n",
    "    eeg_pcorr_mean7x2x4[0,3,freq,:,:]=np.mean(np.concatenate((eeg_partial_correlation144x2[Mutual_synch_ind,0,freq,:,:], \\\n",
    "                                            eeg_partial_correlation144x2[Mutual_synch_ind,1,freq,:,:]),axis=0),axis=0)\n",
    "    eeg_pcorr_mean7x2x4[1,3,freq,:,:]=np.mean(np.concatenate((eeg_partial_correlation144x2[Mutual_synco_ind,0,freq,:,:], \\\n",
    "                                            eeg_partial_correlation144x2[Mutual_synco_ind,1,freq,:,:]),axis=0),axis=0)\n",
    "\n"
   ]
  },
  {
   "cell_type": "code",
   "execution_count": null,
   "metadata": {},
   "outputs": [],
   "source": [
    "# mean number of edges and sem"
   ]
  },
  {
   "attachments": {},
   "cell_type": "markdown",
   "metadata": {},
   "source": [
    "organize behaviral H into 144 x 2"
   ]
  },
  {
   "cell_type": "code",
   "execution_count": 24,
   "metadata": {},
   "outputs": [],
   "source": [
    "# load data of the 4 states\n",
    "outdict=loadmat('H_all.mat')\n",
    "H_all=outdict[\"H_all\"]      # 2x12x12\n"
   ]
  },
  {
   "cell_type": "code",
   "execution_count": 35,
   "metadata": {},
   "outputs": [],
   "source": [
    "# put H_all into 144 first dimention\n",
    "H144=np.zeros((144,2))\n",
    "n=0\n",
    "for ses in range(12):\n",
    "    for trl in range(12):\n",
    "        H144[n,0]=H_all[0,ses,trl]\n",
    "        H144[n,1]=H_all[1,ses,trl]\n",
    "        n+=1\n"
   ]
  },
  {
   "cell_type": "code",
   "execution_count": 36,
   "metadata": {},
   "outputs": [],
   "source": [
    "outdict = dict()\n",
    "outdict['H144'] = H144\n",
    "savemat('H144',outdict,store_python_metadata = True) "
   ]
  },
  {
   "attachments": {},
   "cell_type": "markdown",
   "metadata": {},
   "source": [
    "comparing conditions"
   ]
  },
  {
   "cell_type": "code",
   "execution_count": 49,
   "metadata": {},
   "outputs": [],
   "source": [
    "synch_ind=np.where(session144==1)\n",
    "synco_ind=np.where(session144==2)"
   ]
  },
  {
   "cell_type": "code",
   "execution_count": 48,
   "metadata": {},
   "outputs": [
    {
     "name": "stdout",
     "output_type": "stream",
     "text": [
      "(array([  3,   7,  11,  15,  19,  23,  26,  28,  32,  38,  40,  44,  50,\n",
      "        53,  56,  62,  65,  68,  75,  78,  80,  87,  90,  92,  96, 102,\n",
      "       106, 108, 114, 118, 121, 125, 130, 133, 137, 142]),)\n",
      "(array([  0,   5,  10,  12,  17,  22,  27,  31,  34,  39,  43,  46,  51,\n",
      "        52,  58,  63,  64,  70,  72,  77,  81,  84,  89,  93,  97, 100,\n",
      "       105, 109, 112, 117, 123, 126, 128, 135, 138, 140]),)\n",
      "(array([  1,   4,   8,  13,  16,  20,  24,  29,  33,  36,  41,  45,  49,\n",
      "        54,  59,  61,  66,  71,  73,  76,  82,  85,  88,  94,  99, 101,\n",
      "       107, 111, 113, 119, 120, 124, 129, 132, 136, 141]),)\n",
      "(array([  2,   6,   9,  14,  18,  21,  25,  30,  35,  37,  42,  47,  48,\n",
      "        55,  57,  60,  67,  69,  74,  79,  83,  86,  91,  95,  98, 103,\n",
      "       104, 110, 115, 116, 122, 127, 131, 134, 139, 143]),)\n"
     ]
    }
   ],
   "source": [
    "Uncoupled_ind=np.where(condition_index144==0)\n",
    "L_lead_ind   =np.where(condition_index144==1)\n",
    "R_lead_ind   =np.where(condition_index144==2)\n",
    "Mutual_ind   =np.where(condition_index144==3)\n",
    "print(Uncoupled_ind)\n",
    "print(L_lead_ind)\n",
    "print(R_lead_ind)\n",
    "print(Mutual_ind)"
   ]
  },
  {
   "cell_type": "code",
   "execution_count": 50,
   "metadata": {},
   "outputs": [],
   "source": [
    "# Uncoupled condition in Synch for L&R\n",
    "Uncoupled_synch_ind=np.intersect1d(synch_ind,Uncoupled_ind)\n",
    "# Uncoupled condition in Synco for L&R\n",
    "Uncoupled_synco_ind=np.intersect1d(synco_ind,Uncoupled_ind)"
   ]
  },
  {
   "cell_type": "code",
   "execution_count": 51,
   "metadata": {},
   "outputs": [],
   "source": [
    "# Mutual condition in Synch for L&R\n",
    "Mutual_synch_ind=np.intersect1d(synch_ind,Mutual_ind)\n",
    "# Mutual condition in Synco for L&R\n",
    "Mutual_synco_ind=np.intersect1d(synco_ind,Mutual_ind)"
   ]
  },
  {
   "cell_type": "code",
   "execution_count": 56,
   "metadata": {},
   "outputs": [],
   "source": [
    "# L_Leading in Synch / R_following in Synch\n",
    "L_lead_synch_ind=np.intersect1d(synch_ind,L_lead_ind)\n",
    "# R_leading in Synch / L_following in Synch\n",
    "R_lead_synch_ind=np.intersect1d(synch_ind,R_lead_ind)\n",
    "# L_Leading in Synco / R_following in Synco\n",
    "L_lead_synco_ind=np.intersect1d(synco_ind,L_lead_ind)\n",
    "# R_leading in Synco / L_following in Synco\n",
    "R_lead_synco_ind=np.intersect1d(synco_ind,R_lead_ind)\n"
   ]
  },
  {
   "cell_type": "code",
   "execution_count": 45,
   "metadata": {},
   "outputs": [],
   "source": [
    "# parameters for plotting\n",
    "states4names=['Uncoupled','Leading','Following','Mutual']"
   ]
  },
  {
   "cell_type": "code",
   "execution_count": 65,
   "metadata": {},
   "outputs": [],
   "source": [
    "# condition_index144 \n",
    "from scipy.stats import sem\n",
    "H_means=np.zeros((2,4))\n",
    "H_sems=np.zeros((2,4))\n",
    "\n",
    "# Uncoupled\n",
    "H_means[0,0]=np.mean(H144[Uncoupled_synch_ind,:])\n",
    "H_means[1,0]=np.mean(H144[Uncoupled_synco_ind,:])\n",
    "\n",
    "# Leading for L&R\n",
    "H_means[0,1]=np.mean(np.concatenate((H144[L_lead_synch_ind,0],H144[R_lead_synch_ind,1])))\n",
    "H_means[1,1]=np.mean(np.concatenate((H144[L_lead_synco_ind,0],H144[R_lead_synco_ind,1])))\n",
    "\n",
    "# Following for L&R\n",
    "H_means[0,2]=np.mean(np.concatenate((H144[L_lead_synch_ind,1],H144[R_lead_synch_ind,0])))\n",
    "H_means[1,2]=np.mean(np.concatenate((H144[L_lead_synco_ind,1],H144[R_lead_synco_ind,0])))\n",
    "\n",
    "# Mutual\n",
    "H_means[0,3]=np.mean(H144[Mutual_synch_ind,:])\n",
    "H_means[1,3]=np.mean(H144[Mutual_synco_ind,:])\n",
    "\n",
    "# ***********************************************************************************\n",
    "\n",
    "# Uncoupled\n",
    "H_sems[0,0]=sem(H144[Uncoupled_synch_ind,:],axis=None)\n",
    "H_sems[1,0]=sem(H144[Uncoupled_synco_ind,:],axis=None)\n",
    "\n",
    "# Leading for L&R\n",
    "H_sems[0,1]=sem(np.concatenate((H144[L_lead_synch_ind,0],H144[R_lead_synch_ind,1])))\n",
    "H_sems[1,1]=sem(np.concatenate((H144[L_lead_synco_ind,0],H144[R_lead_synco_ind,1])))\n",
    "\n",
    "# Following for L&R\n",
    "H_sems[0,2]=sem(np.concatenate((H144[L_lead_synch_ind,1],H144[R_lead_synch_ind,0])))\n",
    "H_sems[1,2]=sem(np.concatenate((H144[L_lead_synco_ind,1],H144[R_lead_synco_ind,0])))\n",
    "\n",
    "# Mutual\n",
    "H_sems[0,3]=sem(H144[Mutual_synch_ind,:],axis=None)\n",
    "H_sems[1,3]=sem(H144[Mutual_synco_ind,:],axis=None)"
   ]
  },
  {
   "cell_type": "code",
   "execution_count": 74,
   "metadata": {},
   "outputs": [
    {
     "data": {
      "image/png": "[encoded data removed]",
      "text/plain": [
       "<Figure size 640x480 with 1 Axes>"
      ]
     },
     "metadata": {},
     "output_type": "display_data"
    }
   ],
   "source": [
    "\n",
    "synch_means, synch_sem = H_means[0,:], H_sems[0,:]\n",
    "synco_means, synco_sem = H_means[1,:], H_sems[1,:]\n",
    "\n",
    "ind = np.arange(len(synch_means))  # the x locations for the groups\n",
    "width = 0.35  # the width of the bars\n",
    "\n",
    "fig, ax = plt.subplots()\n",
    "rects1 = ax.bar(ind - width/2, synch_means, width, yerr=synch_sem,\n",
    "                label='Synch')\n",
    "rects2 = ax.bar(ind + width/2, synco_means, width, yerr=synco_sem,\n",
    "                label='Synco')\n",
    "\n",
    "# Add some text for labels, title and custom x-axis tick labels, etc.\n",
    "ax.set_ylabel('H')\n",
    "ax.set_title('H by condi and syn type')\n",
    "ax.set_xticks(ind)\n",
    "ax.set_xticklabels(states4names)\n",
    "ax.legend()\n",
    "\n",
    "plt.ylim(0.6, 0.85)\n",
    "\n",
    "fig.tight_layout()\n",
    "\n",
    "plt.show()"
   ]
  },
  {
   "cell_type": "code",
   "execution_count": 80,
   "metadata": {},
   "outputs": [],
   "source": [
    "# (Color Scheme) \n",
    "red         = [1, 0, 0]\n",
    "pink        = [1, 0.65, 0.75]\n",
    "black       = [0, 0, 0]\n",
    "white       = [1, 1, 1]\n",
    "blue        = [0, 0, 1]\n",
    "mediumblue  = [0, 0.4, 0.7]\n",
    "green       = [0, 1, 0]\n",
    "darkgreen   = [0, 0.5, 0]\n",
    "grey        = [0.5, 0.5, 0.5]\n",
    "yellow      = [1, 1, 0]\n",
    "deepyellow  = [1, 0.8, 0.2]\n",
    "gold        = [212/255, 175/255, 55/255]\n",
    "brown       = [150/255, 75/255, 0]\n",
    "magenta     = [1, 0, 1] \n",
    "cyan        = [0, 1, 1]  \n",
    "purple      = [0.6, 0.1, 0.9]\n",
    "# % https://www.mathworks.com/help/matlab/creating_plots/specify-plot-colors.html\n",
    "matlab_blue     = [0, 0.4470, 0.7410]\n",
    "matlab_orange   = [0.8500, 0.3250, 0.0980]\n",
    "matlab_gold     = [0.9290, 0.6940, 0.1250]\n",
    "matlab_purple   = [0.4940, 0.1840, 0.5560]\n",
    "matlab_green    = [0.4660, 0.6740, 0.1880]\n",
    "matlab_cyan     = [0.3010, 0.7450, 0.9330]\n",
    "matlab_red      = [0.6350, 0.0780, 0.1840]\n",
    "\n",
    "# combine colors\n",
    "condicolors = [darkgreen, red, blue, magenta, purple, purple]\n",
    "dire3colors = [darkgreen, brown, magenta]\n",
    "syn2colors = [darkgreen, pink]\n",
    "HNLcolors = [darkgreen, deepyellow, pink]\n"
   ]
  },
  {
   "cell_type": "code",
   "execution_count": 126,
   "metadata": {},
   "outputs": [],
   "source": [
    "def polyfit_plotline(x,y,color_array,label_name):\n",
    "    plt.plot(x,y,'.', color=color_array)\n",
    "    A = np.polyfit(x, y, 1)\n",
    "    Alpha1 = A[0]\n",
    "    FitValues = np.polyval(A, x)\n",
    "    RHO = np.corrcoef(x, y)\n",
    "    RHO = RHO[0,1]\n",
    "    plt.plot(x, FitValues, '-', color=color_array, linewidth=3,label=label_name)\n",
    "    plt.text(min(x), min(FitValues)+0.025, '$\\\\rho$ = '+str(round(RHO,2)), color=color_array, fontsize=15)  \n",
    "    plt.xlim(0.2,1.4)\n",
    "    plt.ylim(0.2,1.4)\n",
    "    \n",
    "    "
   ]
  },
  {
   "cell_type": "code",
   "execution_count": 128,
   "metadata": {},
   "outputs": [
    {
     "data": {
      "text/plain": [
       "<matplotlib.legend.Legend at 0x7f0bb8228ca0>"
      ]
     },
     "execution_count": 128,
     "metadata": {},
     "output_type": "execute_result"
    },
    {
     "data": {
      "image/png": "[encoded data removed]",
      "text/plain": [
       "<Figure size 1800x600 with 3 Axes>"
      ]
     },
     "metadata": {},
     "output_type": "display_data"
    }
   ],
   "source": [
    "# pair subjects to match H in 3 states\n",
    "fig, ax = plt.subplots(1,3,figsize=(6*3, 6*1))\n",
    "plt.sca(ax[0])\n",
    "polyfit_plotline(H144[Uncoupled_synch_ind,0],H144[Uncoupled_synch_ind,1],syn2colors[0],'synch')\n",
    "polyfit_plotline(H144[Uncoupled_synco_ind,0],H144[Uncoupled_synco_ind,1],syn2colors[1],'synco')\n",
    "plt.legend()\n",
    "\n",
    "plt.sca(ax[1])\n",
    "polyfit_plotline(np.concatenate((H144[L_lead_synch_ind,0],H144[R_lead_synch_ind,1])),\\\n",
    "                 np.concatenate((H144[L_lead_synch_ind,1],H144[R_lead_synch_ind,0])),syn2colors[0],'synch')\n",
    "polyfit_plotline(np.concatenate((H144[L_lead_synco_ind,0],H144[R_lead_synco_ind,1])),\\\n",
    "                 np.concatenate((H144[L_lead_synco_ind,1],H144[R_lead_synco_ind,0])),syn2colors[1],'synco')\n",
    "plt.legend()\n",
    "\n",
    "plt.sca(ax[2])\n",
    "polyfit_plotline(H144[Mutual_synch_ind,0],H144[Mutual_synch_ind,1],syn2colors[0],'synch')\n",
    "polyfit_plotline(H144[Mutual_synco_ind,0],H144[Mutual_synco_ind,1],syn2colors[1],'synco')\n",
    "plt.legend()"
   ]
  },
  {
   "cell_type": "code",
   "execution_count": null,
   "metadata": {},
   "outputs": [
    {
     "data": {
      "text/plain": [
       "array([0.84715683, 0.91059502, 0.64313351, 1.05018945, 0.93652856,\n",
       "       0.56987221, 0.76410236, 0.71971444, 0.75164228, 0.90992171,\n",
       "       0.73173769, 0.57405971, 1.0221329 , 0.77378528, 0.82550011,\n",
       "       0.54832816, 0.66197599, 0.45461253, 0.88110614, 0.873695  ,\n",
       "       0.78874835, 0.76388063, 0.69768172, 0.42439824, 0.97839018,\n",
       "       0.92420994, 1.07507264, 0.69960043, 0.78458444, 0.8412978 ,\n",
       "       0.68392256, 0.54987521, 0.43764638, 0.76455724, 0.61444888,\n",
       "       0.5948239 ])"
      ]
     },
     "metadata": {},
     "output_type": "display_data"
    }
   ],
   "source": [
    "np.concatenate((H144[L_lead_synch_ind,0],H144[R_lead_synch_ind,1]))"
   ]
  }
 ],
 "metadata": {
  "kernelspec": {
   "display_name": "eeg",
   "language": "python",
   "name": "python3"
  },
  "language_info": {
   "codemirror_mode": {
    "name": "ipython",
    "version": 3
   },
   "file_extension": ".py",
   "mimetype": "text/x-python",
   "name": "python",
   "nbconvert_exporter": "python",
   "pygments_lexer": "ipython3",
   "version": "3.9.13"
  },
  "orig_nbformat": 4,
  "vscode": {
   "interpreter": {
    "hash": "92151dfd069a0a59e8342616fc1173887a1e4fb36078a0282eb66543f78e24f8"
   }
  }
 },
 "nbformat": 4,
 "nbformat_minor": 2
}
