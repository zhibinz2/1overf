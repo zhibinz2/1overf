{
 "cells": [
  {
   "attachments": {},
   "cell_type": "markdown",
   "metadata": {},
   "source": [
    "re_estimate_ggmFitHtf"
   ]
  },
  {
   "cell_type": "code",
   "execution_count": 2,
   "metadata": {},
   "outputs": [],
   "source": [
    "import numpy as np\n",
    "import warnings\n",
    "from hdf5storage import loadmat,savemat\n",
    "from matplotlib import pyplot as plt\n",
    "from scipy.stats import sem"
   ]
  },
  {
   "cell_type": "code",
   "execution_count": 5,
   "metadata": {},
   "outputs": [],
   "source": [
    "def convergence_test(fval, previous_fval, threshold=1e-4, warn=False):\n",
    "    \"\"\"\n",
    "    Check if an objective function has converged.\n",
    "\n",
    "    We have converged if the slope of the function falls below 'threshold',\n",
    "    i.e., |f(t) - f(t-1)| / avg < threshold,\n",
    "    where avg = (|f(t)| + |f(t-1)|)/2.\n",
    "    'threshold' defaults to 1e-4.\n",
    "    This stopping criterion is from Numerical Recipes in C p423.\n",
    "    \"\"\"\n",
    "\n",
    "    converged = False\n",
    "    delta_fval = np.abs(fval - previous_fval)\n",
    "    avg_fval = (np.abs(fval) + np.abs(previous_fval) + np.finfo(float).eps) / 2\n",
    "\n",
    "    if delta_fval / avg_fval < threshold:\n",
    "        converged = True\n",
    "\n",
    "    if warn and (fval - previous_fval) < -2 * np.finfo(float).eps:  # fval < previous_fval\n",
    "        warnings.warn('objective decreased!', UserWarning)\n",
    "\n",
    "    return converged"
   ]
  },
  {
   "cell_type": "code",
   "execution_count": 6,
   "metadata": {},
   "outputs": [],
   "source": [
    "def ggmFitHtf(S, G, maxIter=30):\n",
    "    # MLE for a precision matrix given known zeros in the graph\n",
    "    # S is d*d sample covariance matrix\n",
    "    # G is d*d adjacency matrix\n",
    "    # We use the algorithm due to \n",
    "    # Hastie, Tibshirani & Friedman (\"Elements\" book, 2nd Ed, 2008, p633)\n",
    "    # This file is from pmtk3.googlecode.com\n",
    "    p = S.shape[0] \n",
    "    W = S # W = inv(precMat)\n",
    "    precMat = np.zeros((p, p))\n",
    "    beta = np.zeros(p-1)\n",
    "    iter = 1\n",
    "    converged = False\n",
    "    normW = np.linalg.norm(W)\n",
    "    while not converged:\n",
    "        for i in range(p):\n",
    "            # partition W & S for i\n",
    "            noti = np.concatenate((np.arange(i), np.arange(i+1, p)))\n",
    "            W11 = W[noti,:][:,noti]\n",
    "            w12 = W[noti,i]\n",
    "            s22 = S[i,i]\n",
    "            s12 = S[noti,i]\n",
    "\n",
    "            # find G's non-zero index in W11\n",
    "            idx = np.nonzero(G[noti,i])[0]  # non-zeros in G11\n",
    "            beta[:] = 0\n",
    "            beta[idx] = np.linalg.solve(W11[np.ix_(idx,idx)], s12[idx])\n",
    "\n",
    "            # update W\n",
    "            w12 = W11 @ beta\n",
    "            W[noti,i] = w12 \n",
    "            W[i,noti] = w12\n",
    "\n",
    "            # update precMat (technically only needed on last iteration)\n",
    "            p22 = max([0,  1/(s22 - w12 @ beta)])  # must be non-neg\n",
    "            p12 = -beta * p22\n",
    "            precMat[noti,i] = p12\n",
    "            precMat[i,noti] = p12\n",
    "            precMat[i,i] = p22\n",
    "\n",
    "        converged = convergence_test(np.linalg.norm(W),normW) | (iter > maxIter)\n",
    "        normW = np.linalg.norm(W)\n",
    "        iter += 1\n",
    "\n",
    "    # ensure symmetry \n",
    "    precMat = (precMat + precMat.T)/2\n",
    "    \n",
    "    return precMat, iter\n"
   ]
  },
  {
   "attachments": {},
   "cell_type": "markdown",
   "metadata": {},
   "source": [
    "re-estimate the 12 session x 2 subjects x 12 trial using ggmFitHtf"
   ]
  },
  {
   "cell_type": "code",
   "execution_count": 7,
   "metadata": {},
   "outputs": [],
   "source": [
    "# load pcorr_subj from the subjects model\n",
    "data = loadmat('..\\Pcorr_subject_level\\pcorr_subj.mat')\n",
    "pcorr_subj = data['pcorr']"
   ]
  },
  {
   "cell_type": "code",
   "execution_count": 8,
   "metadata": {},
   "outputs": [],
   "source": [
    "# organize file in time sequence\n",
    "filedates=[20220713,20220721,20220804,20220808,20220810,20220811,20220815,20220816,20221003,2022100401,2022100402,20221005]\n",
    "numSes=len(filedates)\n",
    "# file directory of the pcorr output for each session\n",
    "filedir=\"../Pcorr_trial_level/\" \n",
    "pathname = 'pcorr/'\n",
    "dir=filedir+pathname"
   ]
  },
  {
   "cell_type": "code",
   "execution_count": 29,
   "metadata": {},
   "outputs": [],
   "source": [
    "re_parcor_all=np.zeros([12,12,2,30,32,32])\n",
    "iter_all=np.zeros([12,12,2,30])\n",
    "\n",
    "for ses in range(12):\n",
    "\tfilename='clean_'+str(filedates[ses])+'_pcorr.mat'\n",
    "\tspectral=loadmat(dir+filename)\n",
    "\tampcorr = spectral['empirical_amplitude_correlation']\n",
    "\tfor trl in range(12):\n",
    "\t\tfor subj in range(2):\n",
    "\t\t\tfor freq in range(30):\n",
    "\t\t\t\t# single trial in one session\n",
    "\t\t\t\tS = ampcorr[subj,trl,freq,:,:]\n",
    "\t\t\t\t# subject model\n",
    "\t\t\t\tx = pcorr_subj[subj, ses, freq,:,:]\n",
    "\t\t\t\tG = x.astype('bool')\n",
    "\t\t\t\tG = G.astype('int')\n",
    "\t\t\t\t# re-estimate\n",
    "\t\t\t\tprecMat,iter = ggmFitHtf(S, G, maxIter=100)\n",
    "\t\t\t\ty = np.diag(precMat)\n",
    "\t\t\t\tyy = np.outer(y,y)\n",
    "\t\t\t\tyy = np.sqrt(yy)\n",
    "\t\t\t\tparcor = precMat/yy \n",
    "\t\t\t\tre_parcor_all[ses,trl,subj,freq,:,:]=parcor\n",
    "\t\t\t\titer_all[ses,trl,subj,freq]=iter\n",
    "\n",
    "# takes 2 min on my HP laptop\t\n",
    "\t\t\t\t\t\t\t\t"
   ]
  },
  {
   "cell_type": "code",
   "execution_count": 30,
   "metadata": {},
   "outputs": [],
   "source": [
    "# save\n",
    "outdict=dict()\n",
    "outdict['re_parcor_all']=re_parcor_all\n",
    "outdict['iter_all']=iter_all\n",
    "savemat('re_estimate',outdict,store_python_metadata=True)"
   ]
  },
  {
   "attachments": {},
   "cell_type": "markdown",
   "metadata": {},
   "source": [
    "examine natural freq in each trial"
   ]
  },
  {
   "cell_type": "code",
   "execution_count": 3,
   "metadata": {},
   "outputs": [],
   "source": [
    "# # load \n",
    "# outdict=loadmat('re_estimate.mat')\n",
    "# re_parcor_all=outdict[\"re_parcor_all\"]\n",
    "# iter_all=outdict[\"iter_all\"]\n",
    "# del(outdict)"
   ]
  },
  {
   "cell_type": "code",
   "execution_count": 4,
   "metadata": {},
   "outputs": [],
   "source": [
    "# # function for printing figures into Pdf file\n",
    "# # https://www.geeksforgeeks.org/save-multiple-matplotlib-figures-in-single-pdf-file-using-python/\n",
    "# from matplotlib.backends.backend_pdf import PdfPages\n",
    "\n",
    "# def save_image(filename):\n",
    "    \n",
    "#     # PdfPages is a wrapper around pdf \n",
    "#     # file so there is no clash and\n",
    "#     # create files with no error.\n",
    "#     p = PdfPages(filename)\n",
    "      \n",
    "#     # get_fignums Return list of existing\n",
    "#     # figure numbers\n",
    "#     fig_nums = plt.get_fignums()  \n",
    "#     figs = [plt.figure(n) for n in fig_nums]\n",
    "      \n",
    "#     # iterating over the numbers in list\n",
    "#     for fig in figs: \n",
    "        \n",
    "#         # and saving the files\n",
    "#         fig.savefig(p, format='pdf') \n",
    "          \n",
    "#     # close the object\n",
    "#     p.close()  \n",
    "\n"
   ]
  },
  {
   "cell_type": "code",
   "execution_count": null,
   "metadata": {},
   "outputs": [],
   "source": [
    "# for ses in range(12):\n",
    "# \tfor trl in range(1):\n",
    "# \t\tfor subj in range(2):\n",
    "# \t\t\tfig, ax = plt.subplots(30,1,figsize=(3, 3*30))\n",
    "# \t\t\tfor freq in range(30):\n",
    "# \t\t\t\tre_parcorr=re_parcor_all[ses,trl,subj,freq,:,:].astype(bool)\n",
    "# \t\t\t\titer=iter_all[ses,trl,subj,freq]\n",
    "# \t\t\t\tplt.sca(ax[freq])\n",
    "# \t\t\t\tplt.imshow(re_parcorr,cmap='jet'); plt.colorbar()\n",
    "# \t\t\t\tplt.title('ses '+str(ses)+' trl '+str(trl)+\\\n",
    "# \t      \t\t\t' subj '+str(subj)+ ' freq '+str(freq+1)+' iter '+str(iter))\n",
    "\n",
    "# # print into Pdf file\n",
    "# paffilename = \"freq30_subj24_reestimated_pcorr.pdf\"\n",
    "# save_image(paffilename)\n",
    "\n",
    "# # it took too long"
   ]
  }
 ],
 "metadata": {
  "kernelspec": {
   "display_name": "base",
   "language": "python",
   "name": "python3"
  },
  "language_info": {
   "codemirror_mode": {
    "name": "ipython",
    "version": 3
   },
   "file_extension": ".py",
   "mimetype": "text/x-python",
   "name": "python",
   "nbconvert_exporter": "python",
   "pygments_lexer": "ipython3",
   "version": "3.9.13"
  },
  "orig_nbformat": 4
 },
 "nbformat": 4,
 "nbformat_minor": 2
}
