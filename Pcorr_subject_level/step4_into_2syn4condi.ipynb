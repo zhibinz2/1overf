{
 "cells": [
  {
   "attachments": {},
   "cell_type": "markdown",
   "metadata": {},
   "source": [
    "orgainize into 2syn4condi"
   ]
  },
  {
   "cell_type": "code",
   "execution_count": null,
   "metadata": {},
   "outputs": [],
   "source": [
    "import numpy as np\n",
    "import warnings\n",
    "from hdf5storage import loadmat,savemat\n",
    "from matplotlib import pyplot as plt\n",
    "from scipy.stats import sem"
   ]
  },
  {
   "cell_type": "code",
   "execution_count": null,
   "metadata": {},
   "outputs": [],
   "source": [
    "# load \n",
    "outdict=loadmat('re_estimate.mat')\n",
    "re_parcor_all=outdict[\"re_parcor_all\"]\n",
    "iter_all=outdict[\"iter_all\"]\n",
    "del(outdict)"
   ]
  },
  {
   "cell_type": "code",
   "execution_count": null,
   "metadata": {},
   "outputs": [],
   "source": [
    "# load condition_all\n",
    "outdict=loadmat('../Pcorr_trial_level/conditions_all.mat')\n",
    "conditions_all=outdict[\"conditions_all\"]\n",
    "\n",
    "# Organize indicies \n",
    "Uncoupled_Ind=np.zeros((12,3))\n",
    "L_Lead_Ind=np.zeros((12,3)) # they were leading indicies for L subject but following for R\n",
    "R_Lead_Ind=np.zeros((12,3))\n",
    "Mutual_Ind=np.zeros((12,3))\n",
    "\n",
    "for ses in range(12):\n",
    "    Uncoupled_Ind[ses]=np.asarray(np.where(conditions_all[ses]==1))\n",
    "    L_Lead_Ind[ses]=np.asarray(np.where(conditions_all[ses]==2))\n",
    "    R_Lead_Ind[ses]=np.asarray(np.where(conditions_all[ses]==3))\n",
    "    Mutual_Ind[ses]=np.asarray(np.where(conditions_all[ses]==4))"
   ]
  },
  {
   "cell_type": "code",
   "execution_count": null,
   "metadata": {},
   "outputs": [],
   "source": [
    "#  re_parcor_all into 4 conditions in 2 syn types\n",
    "# append all trials of the same condition together\n",
    "synch_Uncoupled = [[] for i in range(30)]\n",
    "synch_Leading   = [[] for i in range(30)]\n",
    "synch_Following = [[] for i in range(30)]\n",
    "synch_Mutual    = [[] for i in range(30)]\n",
    "\n",
    "synco_Uncoupled = [[] for i in range(30)]\n",
    "synco_Leading   = [[] for i in range(30)]\n",
    "synco_Following = [[] for i in range(30)]\n",
    "synco_Mutual    = [[] for i in range(30)]\n",
    "\n",
    "\n",
    "for ses in list(range(0,12,2)): # synch [0, 2, 4, 6, 8, 10]\n",
    "    for subj in range(2):\n",
    "        for trl in range(3):\n",
    "            for freq in range(30):\n",
    "                if subj == 0:\n",
    "                    synch_Uncoupled[freq].append(re_parcor_all[ses,int(Uncoupled_Ind[ses][trl]),subj,freq,:,:])\n",
    "                    synch_Leading[freq].append(re_parcor_all[ses,int(L_Lead_Ind[ses][trl]),subj,freq,:,:])\n",
    "                    synch_Following[freq].append(re_parcor_all[ses,int(R_Lead_Ind[ses][trl]),subj,freq,:,:])\n",
    "                    synch_Mutual[freq].append(re_parcor_all[ses,int(Mutual_Ind[ses][trl]),subj,freq,:,:])\n",
    "                else:\n",
    "                    synch_Uncoupled[freq].append(re_parcor_all[ses,int(Uncoupled_Ind[ses][trl]),subj,freq,:,:])\n",
    "                    synch_Leading[freq].append(re_parcor_all[ses,int(R_Lead_Ind[ses][trl]),subj,freq,:,:])\n",
    "                    synch_Following[freq].append(re_parcor_all[ses,int(L_Lead_Ind[ses][trl]),subj,freq,:,:])\n",
    "                    synch_Mutual[freq].append(re_parcor_all[ses,int(Mutual_Ind[ses][trl]),subj,freq,:,:])\n",
    "\n",
    "for ses in list(range(1,12,2)): # [1, 3, 5, 7, 9, 11]\n",
    "    for subj in range(2):\n",
    "        for trl in range(3):\n",
    "            for freq in range(30):\n",
    "                if subj == 0:\n",
    "                    synco_Uncoupled[freq].append(re_parcor_all[ses,int(Uncoupled_Ind[ses][trl]),subj,freq,:,:])\n",
    "                    synco_Leading[freq].append(re_parcor_all[ses,int(L_Lead_Ind[ses][trl]),subj,freq,:,:])\n",
    "                    synco_Following[freq].append(re_parcor_all[ses,int(R_Lead_Ind[ses][trl]),subj,freq,:,:])\n",
    "                    synco_Mutual[freq].append(re_parcor_all[ses,int(Mutual_Ind[ses][trl]),subj,freq,:,:])\n",
    "                else:\n",
    "                    synco_Uncoupled[freq].append(re_parcor_all[ses,int(Uncoupled_Ind[ses][trl]),subj,freq,:,:])\n",
    "                    synco_Leading[freq].append(re_parcor_all[ses,int(R_Lead_Ind[ses][trl]),subj,freq,:,:])\n",
    "                    synco_Following[freq].append(re_parcor_all[ses,int(L_Lead_Ind[ses][trl]),subj,freq,:,:])\n",
    "                    synco_Mutual[freq].append(re_parcor_all[ses,int(Mutual_Ind[ses][trl]),subj,freq,:,:])\n",
    "\n",
    "# appended 36 trials in each frequencies for each conditions"
   ]
  },
  {
   "cell_type": "code",
   "execution_count": null,
   "metadata": {},
   "outputs": [],
   "source": [
    "synch_4condi=[synch_Uncoupled ,\n",
    "              synch_Leading   ,\n",
    "              synch_Following ,\n",
    "              synch_Mutual    ]\n",
    "synco_4condi=[synco_Uncoupled ,\n",
    "              synco_Leading   ,\n",
    "              synco_Following ,\n",
    "              synco_Mutual    ]\n",
    "syn_4condi=[synch_4condi, synco_4condi]"
   ]
  },
  {
   "cell_type": "code",
   "execution_count": null,
   "metadata": {},
   "outputs": [],
   "source": [
    "# mean of the re_parcor matricies in each frequency across 36 trial\n",
    "mean_syn_4condi=np.zeros((2,4,30,32,32))\n",
    "for syn in range(2):\n",
    "    for condi in range(4):\n",
    "        for freq in range(30):\n",
    "            mean_syn_4condi[syn,condi,freq,:,:] = (np.asarray(syn_4condi[syn][condi][freq])).mean(0)\n"
   ]
  },
  {
   "cell_type": "code",
   "execution_count": null,
   "metadata": {},
   "outputs": [],
   "source": [
    "# sem of the re_parcor matricies in each frequency across 36 trial\n",
    "sem_syn_4condi = np.zeros((2,4,30,32,32))\n",
    "for syn in range(2):\n",
    "    for condi in range(4):\n",
    "        for freq in range(30):\n",
    "            sem_syn_4condi[syn,condi,freq,:,:] = sem(np.asarray(syn_4condi[syn][condi][freq]))\n"
   ]
  },
  {
   "cell_type": "code",
   "execution_count": null,
   "metadata": {},
   "outputs": [],
   "source": [
    "# extract the mean and sem of pcorr for each edge in the 30 freqs.\n",
    "mean30f_syn_4condi=np.zeros((2,4,496,30))\n",
    "sem30f_syn_4condi =np.zeros((2,4,496,30))\n",
    "\n",
    "n=0\n",
    "# for each edge\n",
    "for i in range(32):\n",
    "    for j in range (32):\n",
    "        if i<j: # upper half of the matrix\n",
    "\n",
    "            for syn in range(2):\n",
    "                for condi in range(4):\n",
    "                    mean30f_syn_4condi[syn,condi,n,:]=mean_syn_4condi[syn,condi,:,i,j]\n",
    "                    sem30f_syn_4condi [syn,condi,n,:]=sem_syn_4condi [syn,condi,:,i,j]\n",
    "            n += 1\n",
    "\n"
   ]
  }
 ],
 "metadata": {
  "language_info": {
   "name": "python"
  },
  "orig_nbformat": 4
 },
 "nbformat": 4,
 "nbformat_minor": 2
}
