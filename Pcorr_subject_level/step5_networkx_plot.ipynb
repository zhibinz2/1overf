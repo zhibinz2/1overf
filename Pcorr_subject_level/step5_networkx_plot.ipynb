{
 "cells": [
  {
   "cell_type": "code",
   "execution_count": null,
   "metadata": {},
   "outputs": [],
   "source": [
    "import numpy as np\n",
    "import warnings\n",
    "from hdf5storage import loadmat,savemat\n",
    "from matplotlib import pyplot as plt\n",
    "from scipy.stats import sem\n",
    "import networkx as nx\n",
    "\n",
    "from matplotlib.backends.backend_pdf import PdfPages"
   ]
  },
  {
   "cell_type": "code",
   "execution_count": null,
   "metadata": {},
   "outputs": [],
   "source": [
    "# load condition_all\n",
    "outdict=loadmat('mean30f_sem30f_2syn_4condi.mat')\n",
    "mean30f_syn_4condi=outdict[\"mean30f_syn_4condi\"]\n",
    "sem30f_syn_4condi=outdict[\"sem30f_syn_4condi\"]"
   ]
  },
  {
   "cell_type": "code",
   "execution_count": null,
   "metadata": {},
   "outputs": [],
   "source": [
    "# function for printing figures into Pdf file\n",
    "# https://www.geeksforgeeks.org/save-multiple-matplotlib-figures-in-single-pdf-file-using-python/\n",
    "\n",
    "def save_image(filename):\n",
    "    \n",
    "    # PdfPages is a wrapper around pdf \n",
    "    # file so there is no clash and\n",
    "    # create files with no error.\n",
    "    p = PdfPages(filename)\n",
    "      \n",
    "    # get_fignums Return list of existing\n",
    "    # figure numbers\n",
    "    fig_nums = plt.get_fignums()  \n",
    "    figs = [plt.figure(n) for n in fig_nums]\n",
    "      \n",
    "    # iterating over the numbers in list\n",
    "    for fig in figs: \n",
    "        \n",
    "        # and saving the files\n",
    "        fig.savefig(p, format='pdf') \n",
    "          \n",
    "    # close the object\n",
    "    p.close()  \n",
    "\n"
   ]
  },
  {
   "cell_type": "code",
   "execution_count": null,
   "metadata": {},
   "outputs": [],
   "source": [
    "# construct edges_list\n",
    "edges_list=list() # each edge is a two element tuple\n",
    "for i in range(32):\n",
    "    for j in range(32):\n",
    "        if i<j: # use indicies to remove half of edges and colors and the diagonal\n",
    "            edges_list.append((i,j))"
   ]
  },
  {
   "cell_type": "code",
   "execution_count": null,
   "metadata": {},
   "outputs": [],
   "source": [
    "# load chan locs for topoplots\n",
    "dict_loc=loadmat('../Pcorr_4states_2sestype/chan_locs/xyzlabels.mat')\n",
    "x=dict_loc['x']\n",
    "y=dict_loc['y']\n",
    "z=dict_loc['z']\n",
    "labels=dict_loc['labels']\n",
    "\n",
    "# adjust coords for nilearn plots\n",
    "coords=np.zeros((32,3))\n",
    "for i in range(32):\n",
    "    coords[i,:]=[x[i]*700, y[i]*900-15, z[i]*950-15]\n",
    "\n",
    "#  construct text for networkx labels\n",
    "labeldict = {}\n",
    "for i in range(32):\n",
    "    labeldict[i]=labels[i]\n",
    "\n",
    "# load pos for networkx plots\n",
    "pos_mat=loadmat('../Pcorr_4states_2sestype/chan_locs/pos.mat')\n",
    "pos=pos_mat['pos']"
   ]
  },
  {
   "cell_type": "code",
   "execution_count": null,
   "metadata": {},
   "outputs": [],
   "source": [
    "syn2names=['synch','synco']\n",
    "states4names=['Uncoupled','Leading','Following','Mutual']\n",
    "color_4st=['green','red','blue','black']"
   ]
  },
  {
   "attachments": {},
   "cell_type": "markdown",
   "metadata": {},
   "source": [
    "Networkx 2x4 subplots for each frequency"
   ]
  },
  {
   "cell_type": "code",
   "execution_count": null,
   "metadata": {},
   "outputs": [],
   "source": [
    "# select a freq to investigate\n",
    "for freq in [19]: # 5, 9, 19\n",
    "\n",
    "        fig, ax = plt.subplots(2,4,figsize=(6*4+3, 6*2))\n",
    "\n",
    "        for syn in range(2):\n",
    "                for condi in range(4):\n",
    "                        weights=mean30f_syn_4condi[syn][condi][:,freq]\n",
    "                        non0_edges=list()\n",
    "                        for i in range(len(edges_list)): # 496\n",
    "                                if weights[i] != 0:\n",
    "                                        non0_edges.append(edges_list[i]+({'weight': weights[i]},))\n",
    "                        # networkx initiate with edges\n",
    "                        X = nx.Graph()\n",
    "                        X.add_edges_from(non0_edges)\n",
    "                        edges,non0_weights = zip(*nx.get_edge_attributes(X,'weight').items())\n",
    "\n",
    "                        centrality = nx.current_flow_betweenness_centrality(X, weight='weight')\n",
    "                        node_colors=[n for n in centrality.values()]\n",
    "\n",
    "                        # set colorbar limits for node and edge from the 1st subplot\n",
    "                        if syn==0 and condi ==0:\n",
    "                                vmin_node_c=min(node_colors)#+0.9*(max(node_colors)-min(node_colors))\n",
    "                                vmax_node_c=max(node_colors)#-0.45*(max(node_colors)-min(node_colors))\n",
    "                                vmin_edge_c=min(weights) +0.85*(max(weights)-min(weights))\n",
    "                                vmax_edge_c=max(weights) -0.05*(max(weights)-min(weights))\n",
    "                        \n",
    "                        # subplot\n",
    "                        plt.sca(ax[syn, condi])\n",
    "\n",
    "                        nx.draw_networkx_labels(X, pos, labels=labeldict, font_size=10)\n",
    "\n",
    "                        nodes=nx.draw_networkx_nodes(X, pos, node_size=500, \n",
    "                                node_color=node_colors, vmin=vmin_node_c, vmax=vmax_node_c, \n",
    "                                cmap='Greens', alpha=0.9)\n",
    "\n",
    "                        edges=nx.draw_networkx_edges(X, pos, width=2, \n",
    "                                edge_color=non0_weights,edge_vmin=vmin_edge_c,edge_vmax=vmax_edge_c,\n",
    "                                edge_cmap=plt.cm.Reds,alpha=0.5)\n",
    "                        \n",
    "                        ax[syn, condi].set_title(syn2names[syn] + ' ' + states4names[condi],\n",
    "                                                fontsize = 20) \n",
    "                        ax[syn, condi].axis('off')\n",
    "\n",
    "        fig.subplots_adjust(right=0.8)\n",
    "        cbar_ax1 = fig.add_axes([0.83, 0.15, 0.01, 0.7])\n",
    "        cbar_ax2 = fig.add_axes([0.88, 0.15, 0.01, 0.7])\n",
    "\n",
    "        cbar_node=fig.colorbar(nodes,cbar_ax1)\n",
    "        cbar_node.ax.tick_params(labelsize=10)\n",
    "        cbar_node.set_label('current_flow_betweenness_centrality')\n",
    "\n",
    "        cbar_edges=fig.colorbar(edges,cbar_ax2)\n",
    "        cbar_edges.ax.tick_params(labelsize=10)\n",
    "        cbar_edges.set_label('mean average pcorr re-estimated')\n",
    "\n",
    "        fig.subplots_adjust(top=0.85)\n",
    "        fig.suptitle('Freq: ' + str(freq+1) + ' Hz', fontsize = 20) \n",
    "\n",
    "\n",
    "# # print into Pdf file\n",
    "# paffilename = \"freq30_pcorr_networkx.pdf\"\n",
    "# save_image(paffilename)\n",
    "\n"
   ]
  }
 ],
 "metadata": {
  "language_info": {
   "name": "python"
  },
  "orig_nbformat": 4
 },
 "nbformat": 4,
 "nbformat_minor": 2
}
