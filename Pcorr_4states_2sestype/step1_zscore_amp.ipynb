{
 "cells": [
  {
   "cell_type": "code",
   "execution_count": 12,
   "metadata": {},
   "outputs": [],
   "source": [
    "# load module\n",
    "from hdf5storage import loadmat, savemat\n",
    "import numpy as np \n",
    "\n",
    "\n",
    "from scipy import signal \n",
    "from scipy.fftpack import fft\n",
    "from scipy import stats # for zscoring\n"
   ]
  },
  {
   "cell_type": "code",
   "execution_count": 2,
   "metadata": {},
   "outputs": [],
   "source": [
    "# load data\n",
    "def loaddata(filename):\n",
    "    data = loadmat(filename)\n",
    "    bpchan = int(data['bpchan'][0][0])\n",
    "    channels = data['channels'][0]\n",
    "    conditionNames = data['conditionNames'][0]\n",
    "    conditions = data['conditions'][0]\n",
    "    eeg = dict()\n",
    "    eeg[0] = data['dataL'][0]\n",
    "    eeg[1] = data['dataR'][0]\n",
    "    intervals = data['intervals'][0]\n",
    "    labels = data['labels'][0]\n",
    "    samples = data['samples'][0]\n",
    "    session = int(data['session'][0])\n",
    "    sessionTypes = data['sessionTypes'][0]\n",
    "    sr = int(data['sr'][0])\n",
    "    #Labels and condition names doesnt come over cleanly from matlab \n",
    "    chan_labels = list()\n",
    "    condition_Names = list()\n",
    "    #pythonify condition index\n",
    "    condition_index = list()\n",
    "    for j in range(len(labels)):\n",
    "        chan_labels.append(labels[j][0])\n",
    "    for j in range(len(conditionNames)):\n",
    "        condition_Names.append(conditionNames[j][0])\n",
    "    for j in range(12):\n",
    "        condition_index.append(int(conditions[j]-1))\n",
    "    return eeg, intervals, samples, condition_index, session, sr, bpchan, condition_Names, channels, chan_labels, sessionTypes   \n"
   ]
  },
  {
   "cell_type": "code",
   "execution_count": 3,
   "metadata": {},
   "outputs": [],
   "source": [
    "def avref(datax):\n",
    "\tref = np.mean(datax,axis = 1)\n",
    "\trefmat = np.tile(ref,(np.shape(datax)[1],1))\n",
    "\tdatax = datax - np.transpose(refmat)\n",
    "\treturn datax"
   ]
  },
  {
   "cell_type": "code",
   "execution_count": 4,
   "metadata": {},
   "outputs": [],
   "source": [
    "def segmenteegdata(eegdata,epochlength,samplingrate):\n",
    "    epoch = int(epochlength*samplingrate)\n",
    "    nsamp = np.shape(eegdata)[0]\n",
    "    nchan = np.shape(eegdata)[1]\n",
    "    nepoch = int(nsamp/epoch)\n",
    "    nsamp = nepoch*epoch\n",
    "    segdata = np.reshape(eegdata[0:nsamp,0:nchan],(nepoch,epoch,nchan))\n",
    "    return segdata\n"
   ]
  },
  {
   "cell_type": "code",
   "execution_count": 6,
   "metadata": {},
   "outputs": [],
   "source": [
    "# organize file in time sequence\n",
    "filedates=[20220713,20220721,20220804,20220808,20220810,20220811,20220815,20220816,20221003,2022100401,2022100402,20221005]\n",
    "numSes=len(filedates)"
   ]
  },
  {
   "cell_type": "code",
   "execution_count": 7,
   "metadata": {},
   "outputs": [],
   "source": [
    "# directory\n",
    "filedir=\"/home/zhibinz2/zhibin/analysis/\" # your own data directory\n",
    "pathname = 'Cleaned_data/' # our common folder name\n",
    "dir=filedir+pathname"
   ]
  },
  {
   "cell_type": "code",
   "execution_count": 8,
   "metadata": {},
   "outputs": [],
   "source": [
    "# parameters \n",
    "epoch = 1 #units: seconds\n",
    "maxf = 30 #units: Hz\n",
    "maxbin = maxf*epoch #convert maxf into number of bins to save\n"
   ]
  },
  {
   "cell_type": "code",
   "execution_count": 9,
   "metadata": {},
   "outputs": [],
   "source": [
    "# get fceof in sequence of 12 ses x 12 trl x 2 suj\n",
    "\n",
    "abs_mean_all=np.zeros((12,12,2,30))\n",
    "abs_std_all=np.zeros((12,12,2,30))\n",
    "abs_zscore_all=np.zeros([12,12,2]).tolist()\n",
    "\n",
    "for ses in range(12):\n",
    "\tfilename='clean_'+str(filedates[ses])+'.mat'\n",
    "\t[eeg, intervals, samples, condition_index, session, sr, bpchan, \n",
    "   \t\tcondition_Names, channels, chan_labels, sessionTypes] \\\n",
    "\t\t\t= loaddata(dir+filename)\n",
    "\t# clear output arrays \n",
    "\tpower_mat = np.zeros((2,12,maxbin,32))\n",
    "\n",
    "\tabs_mean_mat = np.zeros((12,12,2,maxbin,32))\n",
    "\tabs_abs_mat = np.zeros((12,12,2,maxbin,32))\n",
    "\n",
    "\tamp_corr_mat = np.zeros((2,12,maxbin,32,32))\n",
    "\tc_spect_mat = np.zeros((2,12,maxbin,32,32),dtype='complex')\n",
    "\tcoh_mat = np.zeros((2,12,maxbin,32,32))\n",
    "\tpcorr_mat = np.zeros((2,12,maxbin,32,32))\n",
    "\tpcorr_cov_mat = np.zeros((2,12,maxbin,32,32))\n",
    "\tpcorr_alphas = np.zeros((2,12,maxbin))\n",
    "\tfor trl in range(12):\n",
    "\t\t#align the length of the two files. \n",
    "\t\tnsamp1 = np.shape(eeg[0][trl])[0]\n",
    "\t\tnsamp2 = np.shape(eeg[1][trl])[0]\n",
    "\t\tnsamp = np.min((nsamp1,nsamp2))\n",
    "\t\tfor subj in range(2): # for each subject\n",
    "\t\t\ttrialdata = avref(eeg[subj][trl][0:nsamp,0:32]) \n",
    "\t\t\ttrialdata = segmenteegdata(trialdata,epoch,sr)\n",
    "\t\t\ttrialdata = signal.detrend(trialdata,axis =1)\n",
    "\t\t\tdataf = fft(trialdata,axis = 1)\n",
    "\t\t\tfcoef = dataf[:,1:maxbin+1,:]/(epoch*sr)/epoch\n",
    "\n",
    "\t\t\tabs_mean =np. mean(np.abs(fcoef),axis =0)\n",
    "\t\t\tabs_std =np. mean(np.abs(fcoef),axis =0)\n",
    "\t\t\tabs_zscore = stats.zscore(np.abs(fcoef),axis=0) \n",
    "\n",
    "\t\t\tabs_mean_mat[ses,trl,subj,:,:] = abs_mean\n",
    "\t\t\tabs_abs_mat[ses,trl,subj,:,:] = abs_std\n",
    "\t\t\tabs_zscore_all[ses][trl][subj] = abs_zscore\n",
    "\n"
   ]
  },
  {
   "cell_type": "code",
   "execution_count": 13,
   "metadata": {},
   "outputs": [],
   "source": [
    "outdict=dict()\n",
    "outdict['abs_zscore_all']=abs_zscore_all\n",
    "savemat('abs_zscore_all',outdict,store_python_metadata=True)"
   ]
  }
 ],
 "metadata": {
  "kernelspec": {
   "display_name": "eeg",
   "language": "python",
   "name": "python3"
  },
  "language_info": {
   "codemirror_mode": {
    "name": "ipython",
    "version": 3
   },
   "file_extension": ".py",
   "mimetype": "text/x-python",
   "name": "python",
   "nbconvert_exporter": "python",
   "pygments_lexer": "ipython3",
   "version": "3.9.13 (main, Aug 25 2022, 23:26:10) \n[GCC 11.2.0]"
  },
  "orig_nbformat": 4,
  "vscode": {
   "interpreter": {
    "hash": "92151dfd069a0a59e8342616fc1173887a1e4fb36078a0282eb66543f78e24f8"
   }
  }
 },
 "nbformat": 4,
 "nbformat_minor": 2
}
