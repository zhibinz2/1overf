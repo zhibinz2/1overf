{
 "cells": [
  {
   "cell_type": "code",
   "execution_count": 1,
   "metadata": {},
   "outputs": [],
   "source": [
    "from hdf5storage import loadmat, savemat \n",
    "import numpy as np "
   ]
  },
  {
   "cell_type": "code",
   "execution_count": 2,
   "metadata": {},
   "outputs": [],
   "source": [
    "# organize file in time sequence\n",
    "filedates=[20220713,20220721,20220804,20220808,20220810,20220811,20220815,20220816,20221003,2022100401,2022100402,20221005]\n",
    "numSes=len(filedates)"
   ]
  },
  {
   "cell_type": "code",
   "execution_count": 3,
   "metadata": {},
   "outputs": [],
   "source": [
    "filedir=\"/home/zhibinz2/zhibin/analysis/\" # your own data directory\n",
    "pathname = 'Cleaned_data/'\n",
    "dir=filedir+pathname"
   ]
  },
  {
   "cell_type": "code",
   "execution_count": null,
   "metadata": {},
   "outputs": [],
   "source": [
    "conditions_all=[]\n",
    "from zzpackage.zzmodule import Zclass\n",
    "for i in range(len(filedates)): # in time sequence    \n",
    "    filename='clean_'+str(filedates[i])+'.mat' \n",
    "    _, _,_,_,conditions,_,_,_,_,_,_,_,sr = Zclass.loadmatvar2(dir,filename) \n",
    "    conditions_all.append(conditions)"
   ]
  },
  {
   "cell_type": "code",
   "execution_count": null,
   "metadata": {},
   "outputs": [],
   "source": [
    "outdict=dict()\n",
    "outdict['conditions_all']=conditions_all\n",
    "savemat('conditions_all',outdict,store_python_metadata=True)"
   ]
  }
 ],
 "metadata": {
  "kernelspec": {
   "display_name": "eeg",
   "language": "python",
   "name": "python3"
  },
  "language_info": {
   "name": "python",
   "version": "3.9.13 (main, Aug 25 2022, 23:26:10) \n[GCC 11.2.0]"
  },
  "orig_nbformat": 4,
  "vscode": {
   "interpreter": {
    "hash": "92151dfd069a0a59e8342616fc1173887a1e4fb36078a0282eb66543f78e24f8"
   }
  }
 },
 "nbformat": 4,
 "nbformat_minor": 2
}
