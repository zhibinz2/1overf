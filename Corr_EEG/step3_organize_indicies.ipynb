{
 "cells": [
  {
   "cell_type": "code",
   "execution_count": 2,
   "metadata": {},
   "outputs": [],
   "source": [
    "import sys\n",
    "# sys.path.append('../../')\n",
    "\n",
    "from os import listdir\n",
    "\n",
    "from hdf5storage import loadmat, savemat \n",
    "import numpy as np \n",
    "from matplotlib import pyplot as plt\n",
    "\n",
    "from scipy import signal \n",
    "# from hnlpy.timeop import makefiltersos\n",
    "# from hnlpy.timeop import narrowfilter \n",
    "from scipy.signal import sosfiltfilt\n",
    "from scipy.signal import hilbert\n",
    "from scipy.signal import savgol_filter\n",
    "from scipy.stats import sem\n",
    "from numpy.polynomial.polynomial import polyfit, polyval\n",
    "\n",
    "import networkx as nx\n"
   ]
  },
  {
   "cell_type": "code",
   "execution_count": 3,
   "metadata": {},
   "outputs": [
    {
     "data": {
      "text/plain": [
       "dict_keys(['condition_index144', 'eeg_empirical_correlation144x2', 'eeg_partial_correlation144x2', 'intervals144', 'samples144', 'session144'])"
      ]
     },
     "execution_count": 3,
     "metadata": {},
     "output_type": "execute_result"
    }
   ],
   "source": [
    "# outdict=loadmat('../test_Filter_Hilbert/Corr_eeg144.mat')\n",
    "# outdict.keys()"
   ]
  },
  {
   "cell_type": "code",
   "execution_count": 4,
   "metadata": {},
   "outputs": [
    {
     "data": {
      "text/plain": [
       "dict_keys(['eeg_empirical_correlation144x2', 'eeg_partial_correlation144x2', 'intervals144', 'samples144', 'session144'])"
      ]
     },
     "execution_count": 4,
     "metadata": {},
     "output_type": "execute_result"
    }
   ],
   "source": [
    "# outdict=loadmat('Corr_eeg144.mat')\n",
    "# outdict.keys()\n",
    "#  # condition_index144 gone?"
   ]
  },
  {
   "cell_type": "code",
   "execution_count": 3,
   "metadata": {},
   "outputs": [],
   "source": [
    "outdict=loadmat('condition_ind144.mat')\n",
    "outdict.keys()\n",
    "condition_index144  = outdict['condition_index144']\n",
    "session144          = outdict['session144']\n"
   ]
  },
  {
   "cell_type": "code",
   "execution_count": 4,
   "metadata": {},
   "outputs": [],
   "source": [
    "# organize indicies\n",
    "synch_ind=np.where(session144==1)\n",
    "synco_ind=np.where(session144==2)\n",
    "\n",
    "Uncoupled_ind=np.where(condition_index144==0)\n",
    "L_lead_ind   =np.where(condition_index144==1)\n",
    "R_lead_ind   =np.where(condition_index144==2)\n",
    "Mutual_ind   =np.where(condition_index144==3)\n",
    "\n",
    "# Uncoupled condition in Synch for L&R\n",
    "Uncoupled_synch_ind=np.intersect1d(synch_ind,Uncoupled_ind)\n",
    "# Uncoupled condition in Synco for L&R\n",
    "Uncoupled_synco_ind=np.intersect1d(synco_ind,Uncoupled_ind)\n",
    "\n",
    "# L_Leading in Synch / R_following in Synch\n",
    "L_lead_synch_ind=np.intersect1d(synch_ind,L_lead_ind)\n",
    "# L_Leading in Synco / R_following in Synco\n",
    "L_lead_synco_ind=np.intersect1d(synco_ind,L_lead_ind)\n",
    "\n",
    "# R_leading in Synch / L_following in Synch\n",
    "R_lead_synch_ind=np.intersect1d(synch_ind,R_lead_ind)\n",
    "# R_leading in Synco / L_following in Synco\n",
    "R_lead_synco_ind=np.intersect1d(synco_ind,R_lead_ind)\n",
    "\n",
    "# Mutual condition in Synch for L&R\n",
    "Mutual_synch_ind=np.intersect1d(synch_ind,Mutual_ind)\n",
    "# Mutual condition in Synco for L&R\n",
    "Mutual_synco_ind=np.intersect1d(synco_ind,Mutual_ind)\n"
   ]
  },
  {
   "cell_type": "code",
   "execution_count": null,
   "metadata": {},
   "outputs": [],
   "source": [
    "outdict = dict()\n",
    "outdict['synch_ind']       = synch_ind\n",
    "outdict['synco_ind']       = synco_ind\n",
    "outdict['syn_ind']       = [synch_ind, synco_ind]\n",
    "\n",
    "\n",
    "outdict['Uncoupled_ind']        = Uncoupled_ind\n",
    "outdict['L_lead_ind']           = L_lead_ind\n",
    "outdict['R_lead_ind']           = R_lead_ind\n",
    "outdict['Mutual_ind']           = Mutual_ind\n",
    "outdict['L_lead_ind']           = L_lead_ind\n",
    "\n",
    "condi4_ind                      = [Uncoupled_ind,L_lead_ind,R_lead_ind,Mutual_ind]\n",
    "outdict['condi4_ind']           = condi4_ind\n",
    "\n",
    "outdict['Uncoupled_synch_ind']  = Uncoupled_synch_ind\n",
    "outdict['Uncoupled_synco_ind']  = Uncoupled_synco_ind\n",
    "outdict['L_lead_synch_ind']     = L_lead_synch_ind\n",
    "outdict['L_lead_synco_ind']     = L_lead_synco_ind\n",
    "outdict['R_lead_synch_ind']     = R_lead_synch_ind\n",
    "outdict['R_lead_synco_ind']     = R_lead_synco_ind\n",
    "outdict['Mutual_synch_ind']     = Mutual_synch_ind\n",
    "outdict['Mutual_synco_ind']     = Mutual_synco_ind\n",
    "\n",
    "synch_condi4_ind                = [Uncoupled_synch_ind,L_lead_synch_ind,R_lead_synch_ind,Mutual_synch_ind]\n",
    "outdict['synch_condi4_ind']     = synch_condi4_ind\n",
    "synco_condi4_ind                = [Uncoupled_synco_ind,L_lead_synco_ind,R_lead_synco_ind,Mutual_synco_ind]\n",
    "outdict['synco_condi4_ind']     = synco_condi4_ind\n",
    "\n",
    "outdict['syn2_condi4_ind']      = [synch_condi4_ind, synco_condi4_ind]\n",
    "\n",
    "savemat('Indicies',outdict,store_python_metadata = True) "
   ]
  }
 ],
 "metadata": {
  "kernelspec": {
   "display_name": "eeg",
   "language": "python",
   "name": "python3"
  },
  "language_info": {
   "codemirror_mode": {
    "name": "ipython",
    "version": 3
   },
   "file_extension": ".py",
   "mimetype": "text/x-python",
   "name": "python",
   "nbconvert_exporter": "python",
   "pygments_lexer": "ipython3",
   "version": "3.9.13"
  },
  "orig_nbformat": 4,
  "vscode": {
   "interpreter": {
    "hash": "92151dfd069a0a59e8342616fc1173887a1e4fb36078a0282eb66543f78e24f8"
   }
  }
 },
 "nbformat": 4,
 "nbformat_minor": 2
}
