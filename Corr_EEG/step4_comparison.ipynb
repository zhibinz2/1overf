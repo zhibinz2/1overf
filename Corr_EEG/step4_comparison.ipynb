{
 "cells": [
  {
   "cell_type": "code",
   "execution_count": 1,
   "metadata": {},
   "outputs": [],
   "source": [
    "import sys\n",
    "# sys.path.append('../../')\n",
    "\n",
    "from os import listdir\n",
    "\n",
    "from hdf5storage import loadmat, savemat \n",
    "import numpy as np \n",
    "from matplotlib import pyplot as plt\n",
    "\n",
    "from scipy import signal \n",
    "# from hnlpy.timeop import makefiltersos\n",
    "# from hnlpy.timeop import narrowfilter \n",
    "from scipy.signal import sosfiltfilt\n",
    "from scipy.signal import hilbert\n",
    "from scipy.signal import savgol_filter\n",
    "from scipy.stats import sem\n",
    "from scipy import stats\n",
    "from scipy.stats import f_oneway\n",
    "from numpy.polynomial.polynomial import polyfit, polyval\n",
    "\n",
    "import networkx as nx\n"
   ]
  },
  {
   "cell_type": "code",
   "execution_count": 2,
   "metadata": {},
   "outputs": [],
   "source": [
    "# (Color Scheme) \n",
    "red         = [1, 0, 0]\n",
    "pink        = [1, 0.65, 0.75]\n",
    "black       = [0, 0, 0]\n",
    "white       = [1, 1, 1]\n",
    "blue        = [0, 0, 1]\n",
    "mediumblue  = [0, 0.4, 0.7]\n",
    "green       = [0, 1, 0]\n",
    "darkgreen   = [0, 0.5, 0]\n",
    "grey        = [0.5, 0.5, 0.5]\n",
    "yellow      = [1, 1, 0]\n",
    "deepyellow  = [1, 0.8, 0.2]\n",
    "gold        = [212/255, 175/255, 55/255]\n",
    "brown       = [150/255, 75/255, 0]\n",
    "magenta     = [1, 0, 1] \n",
    "cyan        = [0, 1, 1]  \n",
    "purple      = [0.6, 0.1, 0.9]\n",
    "\n",
    "# % https://www.mathworks.com/help/matlab/creating_plots/specify-plot-colors.html\n",
    "matlab_blue     = [0, 0.4470, 0.7410]\n",
    "matlab_orange   = [0.8500, 0.3250, 0.0980]\n",
    "matlab_gold     = [0.9290, 0.6940, 0.1250]\n",
    "matlab_purple   = [0.4940, 0.1840, 0.5560]\n",
    "matlab_green    = [0.4660, 0.6740, 0.1880]\n",
    "matlab_cyan     = [0.3010, 0.7450, 0.9330]\n",
    "matlab_red      = [0.6350, 0.0780, 0.1840]\n",
    "\n",
    "# combine colors\n",
    "condicolors = [darkgreen, red, blue, magenta, purple, purple]\n",
    "dire3colors = [darkgreen, brown, magenta]\n",
    "syn2colors = [darkgreen, pink]\n",
    "HNLcolors = [darkgreen, deepyellow, pink]\n",
    "\n",
    "color_4st=['green','red','blue','black']"
   ]
  },
  {
   "cell_type": "code",
   "execution_count": 3,
   "metadata": {},
   "outputs": [],
   "source": [
    "# variable names for plotting\n",
    "states4names=['Uncoupled','Leading','Following','Mutual']\n",
    "syn2names=['Synch','Synco']\n",
    "states3names=['Independent','Unidirectional','Bidirectional']\n"
   ]
  },
  {
   "cell_type": "code",
   "execution_count": 4,
   "metadata": {},
   "outputs": [],
   "source": [
    "outdict=loadmat('Indicies.mat')\n",
    "\n",
    "# condi4_ind          = outdict['condi4_ind']\n",
    "# syn_ind             = outdict['syn_ind']\n",
    "syn2_condi4_ind     = outdict['syn2_condi4_ind']"
   ]
  },
  {
   "cell_type": "code",
   "execution_count": 5,
   "metadata": {},
   "outputs": [],
   "source": [
    "outdict=loadmat('Corr_eeg144.mat')\n",
    "\n",
    "eeg_empirical_correlation144x2  = outdict['eeg_empirical_correlation144x2']     \n",
    "eeg_partial_correlation144x2    = outdict['eeg_partial_correlation144x2']       \n",
    "intervals144                    = outdict['intervals144']                       \n",
    "samples144                      = outdict['samples144']                         \n",
    "session144                      = outdict['session144']                         "
   ]
  },
  {
   "cell_type": "code",
   "execution_count": 6,
   "metadata": {},
   "outputs": [],
   "source": [
    "# reorganzied into 496 edges for networkx computation in individual graph\n",
    "eeg_pcorr_edges144x2x7x496 = np.zeros((144,2,7,496))\n",
    "for n in range(144):\n",
    "    for subj in range(2):\n",
    "        for freq in range(7):\n",
    "            e=0\n",
    "            for i in range(32):\n",
    "                for j in range(32):\n",
    "                    if i<j: # use indicies to remove half of edges and colors and the diagonal\n",
    "                        eeg_pcorr_edges144x2x7x496[n,subj,freq,e]=(eeg_partial_correlation144x2[n,subj,freq,i,j])\n",
    "                        e+=1"
   ]
  },
  {
   "cell_type": "code",
   "execution_count": null,
   "metadata": {},
   "outputs": [],
   "source": []
  }
 ],
 "metadata": {
  "kernelspec": {
   "display_name": "eeg",
   "language": "python",
   "name": "python3"
  },
  "language_info": {
   "codemirror_mode": {
    "name": "ipython",
    "version": 3
   },
   "file_extension": ".py",
   "mimetype": "text/x-python",
   "name": "python",
   "nbconvert_exporter": "python",
   "pygments_lexer": "ipython3",
   "version": "3.9.13"
  },
  "orig_nbformat": 4,
  "vscode": {
   "interpreter": {
    "hash": "92151dfd069a0a59e8342616fc1173887a1e4fb36078a0282eb66543f78e24f8"
   }
  }
 },
 "nbformat": 4,
 "nbformat_minor": 2
}
