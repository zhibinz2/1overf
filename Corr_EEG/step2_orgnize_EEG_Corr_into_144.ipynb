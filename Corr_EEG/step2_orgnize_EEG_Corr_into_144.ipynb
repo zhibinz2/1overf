{
 "cells": [
  {
   "cell_type": "code",
   "execution_count": 1,
   "metadata": {},
   "outputs": [],
   "source": [
    "import sys\n",
    "# sys.path.append('../../')\n",
    "\n",
    "from os import listdir\n",
    "\n",
    "from hdf5storage import loadmat, savemat \n",
    "import numpy as np \n",
    "from matplotlib import pyplot as plt\n",
    "\n",
    "from scipy import signal \n",
    "# from hnlpy.timeop import makefiltersos\n",
    "# from hnlpy.timeop import narrowfilter \n",
    "from scipy.signal import sosfiltfilt\n",
    "from scipy.signal import hilbert\n",
    "from scipy.signal import savgol_filter\n",
    "from scipy.stats import sem\n",
    "from numpy.polynomial.polynomial import polyfit, polyval\n",
    "\n",
    "import networkx as nx\n"
   ]
  },
  {
   "cell_type": "code",
   "execution_count": 2,
   "metadata": {},
   "outputs": [],
   "source": [
    "# organize file in time sequence\n",
    "filedates=[20220713,20220721,20220804,20220808,20220810,20220811,20220815,20220816,20221003,2022100401,2022100402,20221005]\n",
    "numSes=len(filedates)"
   ]
  },
  {
   "cell_type": "code",
   "execution_count": 3,
   "metadata": {},
   "outputs": [
    {
     "data": {
      "text/plain": [
       "dict_keys(['band_labels', 'channel_labels', 'channels', 'condition_names', 'eeg_empirical_correlation', 'eeg_partial_correlation', 'filename', 'intervals', 'samples', 'session', 'sessionTypes'])"
      ]
     },
     "execution_count": 3,
     "metadata": {},
     "output_type": "execute_result"
    }
   ],
   "source": [
    "outdict = loadmat('Corr_eeg_200_'+str(filedates[0])+'.mat')\n",
    "outdict.keys()\n",
    "# condition_index gone ?"
   ]
  },
  {
   "cell_type": "code",
   "execution_count": 6,
   "metadata": {},
   "outputs": [],
   "source": [
    "# put everything in 144 first dimenstion \n",
    "eeg_empirical_correlation144x2   =np.zeros((144,2,7,32,32))\n",
    "eeg_partial_correlation144x2     =np.zeros((144,2,7,32,32))\n",
    "# condition_index144   =np.zeros((144))\n",
    "intervals144         =dict()\n",
    "samples144           =dict()\n",
    "session144           =np.zeros((144))\n",
    "n=0\n",
    "for ses in range(12):\n",
    "    outdict = loadmat('Corr_eeg_200_'+str(filedates[ses])+'.mat')\n",
    "    eeg_empirical_correlation    = outdict['eeg_empirical_correlation']          # 12x2x7x32x32\n",
    "    eeg_partial_correlation      = outdict['eeg_partial_correlation']            # 12x2x7x32x32\n",
    "    # condition_index     = outdict['condition_index']    # 12\n",
    "    intervals           = outdict['intervals']          # 12x175x2\n",
    "    samples             = outdict['samples']            # 12x175x2\n",
    "    session             = outdict['session']            # 12\n",
    "    for trl in range(12):\n",
    "        # condition_index144[n]     = condition_index[trl]    # 12\n",
    "        intervals144[str(n)]      = intervals[trl]\n",
    "        samples144[str(n)]        = samples[trl]\n",
    "        session144[n]             = session[trl]\n",
    "        for subj in range(2):\n",
    "            eeg_empirical_correlation144x2[n,subj,:,:,:]     = eeg_empirical_correlation[trl,subj,:,:,:]\n",
    "            eeg_partial_correlation144x2[n,subj,:,:,:]       = eeg_partial_correlation[trl,subj,:,:,:]\n",
    "        n+=1\n",
    "\n",
    "outdict = dict()\n",
    "outdict['eeg_empirical_correlation144x2']     = eeg_empirical_correlation144x2\n",
    "outdict['eeg_partial_correlation144x2']       = eeg_partial_correlation144x2\n",
    "# outdict['condition_index144']   = condition_index144\n",
    "outdict['intervals144']         = intervals144\n",
    "outdict['samples144']           = samples144\n",
    "outdict['session144']           = session144\n",
    "savemat('Corr_eeg144',outdict,store_python_metadata = True) "
   ]
  }
 ],
 "metadata": {
  "kernelspec": {
   "display_name": "eeg",
   "language": "python",
   "name": "python3"
  },
  "language_info": {
   "codemirror_mode": {
    "name": "ipython",
    "version": 3
   },
   "file_extension": ".py",
   "mimetype": "text/x-python",
   "name": "python",
   "nbconvert_exporter": "python",
   "pygments_lexer": "ipython3",
   "version": "3.9.13 (main, Aug 25 2022, 23:26:10) \n[GCC 11.2.0]"
  },
  "orig_nbformat": 4,
  "vscode": {
   "interpreter": {
    "hash": "92151dfd069a0a59e8342616fc1173887a1e4fb36078a0282eb66543f78e24f8"
   }
  }
 },
 "nbformat": 4,
 "nbformat_minor": 2
}
